{
 "cells": [
  {
   "cell_type": "markdown",
   "metadata": {},
   "source": [
    "# Abstract:"
   ]
  },
  {
   "cell_type": "markdown",
   "metadata": {},
   "source": [
    "### Understanding the tastes of each user and the characteristics of each product is necessary to predict how a user will respond to a new product. This latent user and product dimensions can be discovered with the help of user feedback. A numeric rating and its accompanying text review is the most widely available form of user feedback. A measure which encapsulates the contents of such reviews is often necessary as they have been found to significantly influence the shopping behaviour of users. A fine-grained form of such measure that could act as perfect feedback about the product is a star rating. The review rating prediction tries to predict a rating corresponding to the given review."
   ]
  },
  {
   "cell_type": "markdown",
   "metadata": {},
   "source": [
    "# Problem Statement:"
   ]
  },
  {
   "cell_type": "markdown",
   "metadata": {},
   "source": [
    "### Given the google rating data, use a hierarchical clustering algorithm to cluster reviews."
   ]
  },
  {
   "cell_type": "markdown",
   "metadata": {},
   "source": [
    "# Data Information:\n"
   ]
  },
  {
   "cell_type": "markdown",
   "metadata": {},
   "source": [
    "### This data set is populated by capturing user ratings from Google reviews. Reviews on attractions from 24 categories across Europe are considered. Google user rating ranges from 1 to 5 and the average user rating per category is calculated."
   ]
  },
  {
   "cell_type": "markdown",
   "metadata": {},
   "source": [
    "\n",
    "### Input variables:\n",
    "\n",
    "### User= Unique user id \n",
    "### Attribute 1 =Average ratings on churches\n",
    "### Attribute 2= Average ratings on resorts\n",
    "### Attribute 3= Average ratings on beaches\n",
    "### Attribute 4= Average ratings on parks \n",
    "### Attribute 5= Average ratings on theatres \n",
    "### Attribute 6 =Average ratings on museums\n",
    "### Attribute 7 =Average ratings on malls\n",
    "### Attribute 8 =Average ratings on zoo\n",
    "### Attribute 9= Average ratings on restaurants\n",
    "### Attribute 10= Average ratings on pubs/bars \n",
    "### Attribute 11= Average ratings on local services\n",
    "### Attribute 12= Average ratings on burger/pizza shops\n",
    "### Attribute 13= Average ratings on hotels/other lodgings \n",
    "### Attribute 14= Average ratings on juice bars \n",
    "### Attribute 15= Average ratings on art galleries\n",
    "### Attribute 16= Average ratings on dance clubs\n",
    "### Attribute 17 =Average ratings on swimming pools \n",
    "### Attribute 18 =Average ratings on gyms\n",
    "### Attribute 19 =Average ratings on bakeries\n",
    "### Attribute 20= Average ratings on beauty & spas \n",
    "### Attribute 21= Average ratings on cafes \n",
    "### Attribute 22= Average ratings on viewpoints \n",
    "### Attribute 23= Average ratings on monuments \n",
    "### Attribute 24= Average ratings on gardens"
   ]
  },
  {
   "cell_type": "code",
   "execution_count": 1,
   "metadata": {},
   "outputs": [],
   "source": [
    "import numpy as np\n",
    "import pandas as pd\n",
    "pd.set_option('display.max_rows', 5456)\n",
    "pd.set_option('display.max_columns', 26)\n",
    "pd.set_option('display.width', 1000)\n",
    "import matplotlib.pyplot as plt\n",
    "%matplotlib inline\n",
    "import seaborn as sns"
   ]
  },
  {
   "cell_type": "code",
   "execution_count": 2,
   "metadata": {},
   "outputs": [],
   "source": [
    "df=pd.read_csv(\"google_review_ratings.csv\") # loading the dataset"
   ]
  },
  {
   "cell_type": "code",
   "execution_count": 3,
   "metadata": {},
   "outputs": [
    {
     "data": {
      "text/html": [
       "<div>\n",
       "<style scoped>\n",
       "    .dataframe tbody tr th:only-of-type {\n",
       "        vertical-align: middle;\n",
       "    }\n",
       "\n",
       "    .dataframe tbody tr th {\n",
       "        vertical-align: top;\n",
       "    }\n",
       "\n",
       "    .dataframe thead th {\n",
       "        text-align: right;\n",
       "    }\n",
       "</style>\n",
       "<table border=\"1\" class=\"dataframe\">\n",
       "  <thead>\n",
       "    <tr style=\"text-align: right;\">\n",
       "      <th></th>\n",
       "      <th>User</th>\n",
       "      <th>Category 1</th>\n",
       "      <th>Category 2</th>\n",
       "      <th>Category 3</th>\n",
       "      <th>Category 4</th>\n",
       "      <th>Category 5</th>\n",
       "      <th>Category 6</th>\n",
       "      <th>Category 7</th>\n",
       "      <th>Category 8</th>\n",
       "      <th>Category 9</th>\n",
       "      <th>Category 10</th>\n",
       "      <th>Category 11</th>\n",
       "      <th>Category 12</th>\n",
       "      <th>Category 13</th>\n",
       "      <th>Category 14</th>\n",
       "      <th>Category 15</th>\n",
       "      <th>Category 16</th>\n",
       "      <th>Category 17</th>\n",
       "      <th>Category 18</th>\n",
       "      <th>Category 19</th>\n",
       "      <th>Category 20</th>\n",
       "      <th>Category 21</th>\n",
       "      <th>Category 22</th>\n",
       "      <th>Category 23</th>\n",
       "      <th>Category 24</th>\n",
       "      <th>Unnamed: 25</th>\n",
       "    </tr>\n",
       "  </thead>\n",
       "  <tbody>\n",
       "    <tr>\n",
       "      <th>0</th>\n",
       "      <td>User 1</td>\n",
       "      <td>0.0</td>\n",
       "      <td>0.0</td>\n",
       "      <td>3.63</td>\n",
       "      <td>3.65</td>\n",
       "      <td>5.0</td>\n",
       "      <td>2.92</td>\n",
       "      <td>5.0</td>\n",
       "      <td>2.35</td>\n",
       "      <td>2.33</td>\n",
       "      <td>2.64</td>\n",
       "      <td>1.7</td>\n",
       "      <td>1.69</td>\n",
       "      <td>1.7</td>\n",
       "      <td>1.72</td>\n",
       "      <td>1.74</td>\n",
       "      <td>0.59</td>\n",
       "      <td>0.5</td>\n",
       "      <td>0.0</td>\n",
       "      <td>0.5</td>\n",
       "      <td>0.0</td>\n",
       "      <td>0.0</td>\n",
       "      <td>0.0</td>\n",
       "      <td>0.0</td>\n",
       "      <td>0.0</td>\n",
       "      <td>NaN</td>\n",
       "    </tr>\n",
       "    <tr>\n",
       "      <th>1</th>\n",
       "      <td>User 2</td>\n",
       "      <td>0.0</td>\n",
       "      <td>0.0</td>\n",
       "      <td>3.63</td>\n",
       "      <td>3.65</td>\n",
       "      <td>5.0</td>\n",
       "      <td>2.92</td>\n",
       "      <td>5.0</td>\n",
       "      <td>2.64</td>\n",
       "      <td>2.33</td>\n",
       "      <td>2.65</td>\n",
       "      <td>1.7</td>\n",
       "      <td>1.69</td>\n",
       "      <td>1.7</td>\n",
       "      <td>1.72</td>\n",
       "      <td>1.74</td>\n",
       "      <td>0.59</td>\n",
       "      <td>0.5</td>\n",
       "      <td>0.0</td>\n",
       "      <td>0.5</td>\n",
       "      <td>0.0</td>\n",
       "      <td>0.0</td>\n",
       "      <td>0.0</td>\n",
       "      <td>0.0</td>\n",
       "      <td>0.0</td>\n",
       "      <td>NaN</td>\n",
       "    </tr>\n",
       "    <tr>\n",
       "      <th>2</th>\n",
       "      <td>User 3</td>\n",
       "      <td>0.0</td>\n",
       "      <td>0.0</td>\n",
       "      <td>3.63</td>\n",
       "      <td>3.63</td>\n",
       "      <td>5.0</td>\n",
       "      <td>2.92</td>\n",
       "      <td>5.0</td>\n",
       "      <td>2.64</td>\n",
       "      <td>2.33</td>\n",
       "      <td>2.64</td>\n",
       "      <td>1.7</td>\n",
       "      <td>1.69</td>\n",
       "      <td>1.7</td>\n",
       "      <td>1.72</td>\n",
       "      <td>1.74</td>\n",
       "      <td>0.59</td>\n",
       "      <td>0.5</td>\n",
       "      <td>0.0</td>\n",
       "      <td>0.5</td>\n",
       "      <td>0.0</td>\n",
       "      <td>0.0</td>\n",
       "      <td>0.0</td>\n",
       "      <td>0.0</td>\n",
       "      <td>0.0</td>\n",
       "      <td>NaN</td>\n",
       "    </tr>\n",
       "    <tr>\n",
       "      <th>3</th>\n",
       "      <td>User 4</td>\n",
       "      <td>0.0</td>\n",
       "      <td>0.5</td>\n",
       "      <td>3.63</td>\n",
       "      <td>3.63</td>\n",
       "      <td>5.0</td>\n",
       "      <td>2.92</td>\n",
       "      <td>5.0</td>\n",
       "      <td>2.35</td>\n",
       "      <td>2.33</td>\n",
       "      <td>2.64</td>\n",
       "      <td>1.73</td>\n",
       "      <td>1.69</td>\n",
       "      <td>1.7</td>\n",
       "      <td>1.72</td>\n",
       "      <td>1.74</td>\n",
       "      <td>0.59</td>\n",
       "      <td>0.5</td>\n",
       "      <td>0.0</td>\n",
       "      <td>0.5</td>\n",
       "      <td>0.0</td>\n",
       "      <td>0.0</td>\n",
       "      <td>0.0</td>\n",
       "      <td>0.0</td>\n",
       "      <td>0.0</td>\n",
       "      <td>NaN</td>\n",
       "    </tr>\n",
       "    <tr>\n",
       "      <th>4</th>\n",
       "      <td>User 5</td>\n",
       "      <td>0.0</td>\n",
       "      <td>0.0</td>\n",
       "      <td>3.63</td>\n",
       "      <td>3.63</td>\n",
       "      <td>5.0</td>\n",
       "      <td>2.92</td>\n",
       "      <td>5.0</td>\n",
       "      <td>2.64</td>\n",
       "      <td>2.33</td>\n",
       "      <td>2.64</td>\n",
       "      <td>1.7</td>\n",
       "      <td>1.69</td>\n",
       "      <td>1.7</td>\n",
       "      <td>1.72</td>\n",
       "      <td>1.74</td>\n",
       "      <td>0.59</td>\n",
       "      <td>0.5</td>\n",
       "      <td>0.0</td>\n",
       "      <td>0.5</td>\n",
       "      <td>0.0</td>\n",
       "      <td>0.0</td>\n",
       "      <td>0.0</td>\n",
       "      <td>0.0</td>\n",
       "      <td>0.0</td>\n",
       "      <td>NaN</td>\n",
       "    </tr>\n",
       "  </tbody>\n",
       "</table>\n",
       "</div>"
      ],
      "text/plain": [
       "     User  Category 1  Category 2  Category 3  Category 4  Category 5  Category 6  Category 7  Category 8  Category 9  Category 10 Category 11  Category 12  Category 13  Category 14  Category 15  Category 16  Category 17  Category 18  Category 19  Category 20  Category 21  Category 22  Category 23  Category 24  Unnamed: 25\n",
       "0  User 1         0.0         0.0        3.63        3.65         5.0        2.92         5.0        2.35        2.33         2.64         1.7         1.69          1.7         1.72         1.74         0.59          0.5          0.0          0.5          0.0          0.0          0.0          0.0          0.0          NaN\n",
       "1  User 2         0.0         0.0        3.63        3.65         5.0        2.92         5.0        2.64        2.33         2.65         1.7         1.69          1.7         1.72         1.74         0.59          0.5          0.0          0.5          0.0          0.0          0.0          0.0          0.0          NaN\n",
       "2  User 3         0.0         0.0        3.63        3.63         5.0        2.92         5.0        2.64        2.33         2.64         1.7         1.69          1.7         1.72         1.74         0.59          0.5          0.0          0.5          0.0          0.0          0.0          0.0          0.0          NaN\n",
       "3  User 4         0.0         0.5        3.63        3.63         5.0        2.92         5.0        2.35        2.33         2.64        1.73         1.69          1.7         1.72         1.74         0.59          0.5          0.0          0.5          0.0          0.0          0.0          0.0          0.0          NaN\n",
       "4  User 5         0.0         0.0        3.63        3.63         5.0        2.92         5.0        2.64        2.33         2.64         1.7         1.69          1.7         1.72         1.74         0.59          0.5          0.0          0.5          0.0          0.0          0.0          0.0          0.0          NaN"
      ]
     },
     "execution_count": 3,
     "metadata": {},
     "output_type": "execute_result"
    }
   ],
   "source": [
    "df.head()# reading the first five rows from dataset"
   ]
  },
  {
   "cell_type": "code",
   "execution_count": 4,
   "metadata": {},
   "outputs": [
    {
     "data": {
      "text/plain": [
       "Index(['User', 'Category 1', 'Category 2', 'Category 3', 'Category 4', 'Category 5', 'Category 6', 'Category 7', 'Category 8', 'Category 9', 'Category 10', 'Category 11', 'Category 12', 'Category 13', 'Category 14', 'Category 15', 'Category 16', 'Category 17', 'Category 18', 'Category 19', 'Category 20', 'Category 21', 'Category 22', 'Category 23', 'Category 24', 'Unnamed: 25'], dtype='object')"
      ]
     },
     "execution_count": 4,
     "metadata": {},
     "output_type": "execute_result"
    }
   ],
   "source": [
    "df.columns # reading all the columns from dataset"
   ]
  },
  {
   "cell_type": "code",
   "execution_count": 5,
   "metadata": {},
   "outputs": [],
   "source": [
    "# renaming the columns in dataset"
   ]
  },
  {
   "cell_type": "code",
   "execution_count": 6,
   "metadata": {},
   "outputs": [],
   "source": [
    "df1 = df.rename(columns = {'Category 1': 'Average ratings on churches', 'Category 2': 'erage ratings on resorts','Category 3':'Average ratings on beaches', 'Category 4':'Average ratings on parks',\n",
    "       'Category 5':'Average ratings on theatres', 'Category 6':'Average ratings on museums', 'Category 7':'Average ratings on malls', 'Category 8':'Average ratings on zoo', 'Category 9':'Average ratings on restaurants',\n",
    "       'Category 10':'Average ratings on pubs/bars', 'Category 11':'Average ratings on local services', 'Category 12':'Average ratings on burger/pizza shops', 'Category 13':'Average ratings on hotels/other lodgings',\n",
    "       'Category 14':'Average ratings on juice bars', 'Category 15':'Average ratings on art galleries', 'Category 16':'Average ratings on dance clubs', 'Category 17':'Average ratings on swimming pools',\n",
    "       'Category 18':'Average ratings on gyms', 'Category 19':'Average ratings on bakeries', 'Category 20':'Average ratings on beauty & spas', 'Category 21':'Average ratings on cafes',\n",
    "       'Category 22':'Average ratings on viewpoints', 'Category 23':'Average ratings on monuments', 'Category 24':'Average ratings on gardens'}, inplace = True)\n"
   ]
  },
  {
   "cell_type": "code",
   "execution_count": 7,
   "metadata": {},
   "outputs": [
    {
     "data": {
      "text/html": [
       "<div>\n",
       "<style scoped>\n",
       "    .dataframe tbody tr th:only-of-type {\n",
       "        vertical-align: middle;\n",
       "    }\n",
       "\n",
       "    .dataframe tbody tr th {\n",
       "        vertical-align: top;\n",
       "    }\n",
       "\n",
       "    .dataframe thead th {\n",
       "        text-align: right;\n",
       "    }\n",
       "</style>\n",
       "<table border=\"1\" class=\"dataframe\">\n",
       "  <thead>\n",
       "    <tr style=\"text-align: right;\">\n",
       "      <th></th>\n",
       "      <th>User</th>\n",
       "      <th>Average ratings on churches</th>\n",
       "      <th>erage ratings on resorts</th>\n",
       "      <th>Average ratings on beaches</th>\n",
       "      <th>Average ratings on parks</th>\n",
       "      <th>Average ratings on theatres</th>\n",
       "      <th>Average ratings on museums</th>\n",
       "      <th>Average ratings on malls</th>\n",
       "      <th>Average ratings on zoo</th>\n",
       "      <th>Average ratings on restaurants</th>\n",
       "      <th>Average ratings on pubs/bars</th>\n",
       "      <th>Average ratings on local services</th>\n",
       "      <th>Average ratings on burger/pizza shops</th>\n",
       "      <th>Average ratings on hotels/other lodgings</th>\n",
       "      <th>Average ratings on juice bars</th>\n",
       "      <th>Average ratings on art galleries</th>\n",
       "      <th>Average ratings on dance clubs</th>\n",
       "      <th>Average ratings on swimming pools</th>\n",
       "      <th>Average ratings on gyms</th>\n",
       "      <th>Average ratings on bakeries</th>\n",
       "      <th>Average ratings on beauty &amp; spas</th>\n",
       "      <th>Average ratings on cafes</th>\n",
       "      <th>Average ratings on viewpoints</th>\n",
       "      <th>Average ratings on monuments</th>\n",
       "      <th>Average ratings on gardens</th>\n",
       "      <th>Unnamed: 25</th>\n",
       "    </tr>\n",
       "  </thead>\n",
       "  <tbody>\n",
       "    <tr>\n",
       "      <th>0</th>\n",
       "      <td>User 1</td>\n",
       "      <td>0.0</td>\n",
       "      <td>0.0</td>\n",
       "      <td>3.63</td>\n",
       "      <td>3.65</td>\n",
       "      <td>5.0</td>\n",
       "      <td>2.92</td>\n",
       "      <td>5.0</td>\n",
       "      <td>2.35</td>\n",
       "      <td>2.33</td>\n",
       "      <td>2.64</td>\n",
       "      <td>1.7</td>\n",
       "      <td>1.69</td>\n",
       "      <td>1.7</td>\n",
       "      <td>1.72</td>\n",
       "      <td>1.74</td>\n",
       "      <td>0.59</td>\n",
       "      <td>0.5</td>\n",
       "      <td>0.0</td>\n",
       "      <td>0.5</td>\n",
       "      <td>0.0</td>\n",
       "      <td>0.0</td>\n",
       "      <td>0.0</td>\n",
       "      <td>0.0</td>\n",
       "      <td>0.0</td>\n",
       "      <td>NaN</td>\n",
       "    </tr>\n",
       "    <tr>\n",
       "      <th>1</th>\n",
       "      <td>User 2</td>\n",
       "      <td>0.0</td>\n",
       "      <td>0.0</td>\n",
       "      <td>3.63</td>\n",
       "      <td>3.65</td>\n",
       "      <td>5.0</td>\n",
       "      <td>2.92</td>\n",
       "      <td>5.0</td>\n",
       "      <td>2.64</td>\n",
       "      <td>2.33</td>\n",
       "      <td>2.65</td>\n",
       "      <td>1.7</td>\n",
       "      <td>1.69</td>\n",
       "      <td>1.7</td>\n",
       "      <td>1.72</td>\n",
       "      <td>1.74</td>\n",
       "      <td>0.59</td>\n",
       "      <td>0.5</td>\n",
       "      <td>0.0</td>\n",
       "      <td>0.5</td>\n",
       "      <td>0.0</td>\n",
       "      <td>0.0</td>\n",
       "      <td>0.0</td>\n",
       "      <td>0.0</td>\n",
       "      <td>0.0</td>\n",
       "      <td>NaN</td>\n",
       "    </tr>\n",
       "    <tr>\n",
       "      <th>2</th>\n",
       "      <td>User 3</td>\n",
       "      <td>0.0</td>\n",
       "      <td>0.0</td>\n",
       "      <td>3.63</td>\n",
       "      <td>3.63</td>\n",
       "      <td>5.0</td>\n",
       "      <td>2.92</td>\n",
       "      <td>5.0</td>\n",
       "      <td>2.64</td>\n",
       "      <td>2.33</td>\n",
       "      <td>2.64</td>\n",
       "      <td>1.7</td>\n",
       "      <td>1.69</td>\n",
       "      <td>1.7</td>\n",
       "      <td>1.72</td>\n",
       "      <td>1.74</td>\n",
       "      <td>0.59</td>\n",
       "      <td>0.5</td>\n",
       "      <td>0.0</td>\n",
       "      <td>0.5</td>\n",
       "      <td>0.0</td>\n",
       "      <td>0.0</td>\n",
       "      <td>0.0</td>\n",
       "      <td>0.0</td>\n",
       "      <td>0.0</td>\n",
       "      <td>NaN</td>\n",
       "    </tr>\n",
       "    <tr>\n",
       "      <th>3</th>\n",
       "      <td>User 4</td>\n",
       "      <td>0.0</td>\n",
       "      <td>0.5</td>\n",
       "      <td>3.63</td>\n",
       "      <td>3.63</td>\n",
       "      <td>5.0</td>\n",
       "      <td>2.92</td>\n",
       "      <td>5.0</td>\n",
       "      <td>2.35</td>\n",
       "      <td>2.33</td>\n",
       "      <td>2.64</td>\n",
       "      <td>1.73</td>\n",
       "      <td>1.69</td>\n",
       "      <td>1.7</td>\n",
       "      <td>1.72</td>\n",
       "      <td>1.74</td>\n",
       "      <td>0.59</td>\n",
       "      <td>0.5</td>\n",
       "      <td>0.0</td>\n",
       "      <td>0.5</td>\n",
       "      <td>0.0</td>\n",
       "      <td>0.0</td>\n",
       "      <td>0.0</td>\n",
       "      <td>0.0</td>\n",
       "      <td>0.0</td>\n",
       "      <td>NaN</td>\n",
       "    </tr>\n",
       "    <tr>\n",
       "      <th>4</th>\n",
       "      <td>User 5</td>\n",
       "      <td>0.0</td>\n",
       "      <td>0.0</td>\n",
       "      <td>3.63</td>\n",
       "      <td>3.63</td>\n",
       "      <td>5.0</td>\n",
       "      <td>2.92</td>\n",
       "      <td>5.0</td>\n",
       "      <td>2.64</td>\n",
       "      <td>2.33</td>\n",
       "      <td>2.64</td>\n",
       "      <td>1.7</td>\n",
       "      <td>1.69</td>\n",
       "      <td>1.7</td>\n",
       "      <td>1.72</td>\n",
       "      <td>1.74</td>\n",
       "      <td>0.59</td>\n",
       "      <td>0.5</td>\n",
       "      <td>0.0</td>\n",
       "      <td>0.5</td>\n",
       "      <td>0.0</td>\n",
       "      <td>0.0</td>\n",
       "      <td>0.0</td>\n",
       "      <td>0.0</td>\n",
       "      <td>0.0</td>\n",
       "      <td>NaN</td>\n",
       "    </tr>\n",
       "  </tbody>\n",
       "</table>\n",
       "</div>"
      ],
      "text/plain": [
       "     User  Average ratings on churches  erage ratings on resorts  Average ratings on beaches  Average ratings on parks  Average ratings on theatres  Average ratings on museums  Average ratings on malls  Average ratings on zoo  Average ratings on restaurants  Average ratings on pubs/bars Average ratings on local services  Average ratings on burger/pizza shops  Average ratings on hotels/other lodgings  Average ratings on juice bars  Average ratings on art galleries  Average ratings on dance clubs  Average ratings on swimming pools  Average ratings on gyms  Average ratings on bakeries  Average ratings on beauty & spas  Average ratings on cafes  Average ratings on viewpoints  Average ratings on monuments  Average ratings on gardens  Unnamed: 25\n",
       "0  User 1                          0.0                       0.0                        3.63                      3.65                          5.0                        2.92                       5.0                    2.35                            2.33                          2.64                               1.7                                   1.69                                       1.7                           1.72                              1.74                            0.59                                0.5                      0.0                          0.5                               0.0                       0.0                            0.0                           0.0                         0.0          NaN\n",
       "1  User 2                          0.0                       0.0                        3.63                      3.65                          5.0                        2.92                       5.0                    2.64                            2.33                          2.65                               1.7                                   1.69                                       1.7                           1.72                              1.74                            0.59                                0.5                      0.0                          0.5                               0.0                       0.0                            0.0                           0.0                         0.0          NaN\n",
       "2  User 3                          0.0                       0.0                        3.63                      3.63                          5.0                        2.92                       5.0                    2.64                            2.33                          2.64                               1.7                                   1.69                                       1.7                           1.72                              1.74                            0.59                                0.5                      0.0                          0.5                               0.0                       0.0                            0.0                           0.0                         0.0          NaN\n",
       "3  User 4                          0.0                       0.5                        3.63                      3.63                          5.0                        2.92                       5.0                    2.35                            2.33                          2.64                              1.73                                   1.69                                       1.7                           1.72                              1.74                            0.59                                0.5                      0.0                          0.5                               0.0                       0.0                            0.0                           0.0                         0.0          NaN\n",
       "4  User 5                          0.0                       0.0                        3.63                      3.63                          5.0                        2.92                       5.0                    2.64                            2.33                          2.64                               1.7                                   1.69                                       1.7                           1.72                              1.74                            0.59                                0.5                      0.0                          0.5                               0.0                       0.0                            0.0                           0.0                         0.0          NaN"
      ]
     },
     "execution_count": 7,
     "metadata": {},
     "output_type": "execute_result"
    }
   ],
   "source": [
    "df.head()"
   ]
  },
  {
   "cell_type": "code",
   "execution_count": 8,
   "metadata": {},
   "outputs": [
    {
     "data": {
      "text/plain": [
       "Index(['User', 'Average ratings on churches', 'erage ratings on resorts', 'Average ratings on beaches', 'Average ratings on parks', 'Average ratings on theatres', 'Average ratings on museums', 'Average ratings on malls', 'Average ratings on zoo', 'Average ratings on restaurants', 'Average ratings on pubs/bars', 'Average ratings on local services', 'Average ratings on burger/pizza shops', 'Average ratings on hotels/other lodgings', 'Average ratings on juice bars', 'Average ratings on art galleries', 'Average ratings on dance clubs', 'Average ratings on swimming pools', 'Average ratings on gyms', 'Average ratings on bakeries', 'Average ratings on beauty & spas', 'Average ratings on cafes', 'Average ratings on viewpoints', 'Average ratings on monuments', 'Average ratings on gardens', 'Unnamed: 25'], dtype='object')"
      ]
     },
     "execution_count": 8,
     "metadata": {},
     "output_type": "execute_result"
    }
   ],
   "source": [
    "df.columns"
   ]
  },
  {
   "cell_type": "code",
   "execution_count": 9,
   "metadata": {},
   "outputs": [
    {
     "data": {
      "text/plain": [
       "(5456, 26)"
      ]
     },
     "execution_count": 9,
     "metadata": {},
     "output_type": "execute_result"
    }
   ],
   "source": [
    "df.shape # reading the number of rows and columns in dataset"
   ]
  },
  {
   "cell_type": "code",
   "execution_count": 10,
   "metadata": {},
   "outputs": [
    {
     "name": "stdout",
     "output_type": "stream",
     "text": [
      "<class 'pandas.core.frame.DataFrame'>\n",
      "RangeIndex: 5456 entries, 0 to 5455\n",
      "Data columns (total 26 columns):\n",
      " #   Column                                    Non-Null Count  Dtype  \n",
      "---  ------                                    --------------  -----  \n",
      " 0   User                                      5456 non-null   object \n",
      " 1   Average ratings on churches               5456 non-null   float64\n",
      " 2   erage ratings on resorts                  5456 non-null   float64\n",
      " 3   Average ratings on beaches                5456 non-null   float64\n",
      " 4   Average ratings on parks                  5456 non-null   float64\n",
      " 5   Average ratings on theatres               5456 non-null   float64\n",
      " 6   Average ratings on museums                5456 non-null   float64\n",
      " 7   Average ratings on malls                  5456 non-null   float64\n",
      " 8   Average ratings on zoo                    5456 non-null   float64\n",
      " 9   Average ratings on restaurants            5456 non-null   float64\n",
      " 10  Average ratings on pubs/bars              5456 non-null   float64\n",
      " 11  Average ratings on local services         5456 non-null   object \n",
      " 12  Average ratings on burger/pizza shops     5455 non-null   float64\n",
      " 13  Average ratings on hotels/other lodgings  5456 non-null   float64\n",
      " 14  Average ratings on juice bars             5456 non-null   float64\n",
      " 15  Average ratings on art galleries          5456 non-null   float64\n",
      " 16  Average ratings on dance clubs            5456 non-null   float64\n",
      " 17  Average ratings on swimming pools         5456 non-null   float64\n",
      " 18  Average ratings on gyms                   5456 non-null   float64\n",
      " 19  Average ratings on bakeries               5456 non-null   float64\n",
      " 20  Average ratings on beauty & spas          5456 non-null   float64\n",
      " 21  Average ratings on cafes                  5456 non-null   float64\n",
      " 22  Average ratings on viewpoints             5456 non-null   float64\n",
      " 23  Average ratings on monuments              5456 non-null   float64\n",
      " 24  Average ratings on gardens                5455 non-null   float64\n",
      " 25  Unnamed: 25                               2 non-null      float64\n",
      "dtypes: float64(24), object(2)\n",
      "memory usage: 1.1+ MB\n"
     ]
    }
   ],
   "source": [
    "df.info() #printing all columns ,non null values and datatype"
   ]
  },
  {
   "cell_type": "code",
   "execution_count": 11,
   "metadata": {},
   "outputs": [
    {
     "data": {
      "text/html": [
       "<div>\n",
       "<style scoped>\n",
       "    .dataframe tbody tr th:only-of-type {\n",
       "        vertical-align: middle;\n",
       "    }\n",
       "\n",
       "    .dataframe tbody tr th {\n",
       "        vertical-align: top;\n",
       "    }\n",
       "\n",
       "    .dataframe thead th {\n",
       "        text-align: right;\n",
       "    }\n",
       "</style>\n",
       "<table border=\"1\" class=\"dataframe\">\n",
       "  <thead>\n",
       "    <tr style=\"text-align: right;\">\n",
       "      <th></th>\n",
       "      <th>Average ratings on churches</th>\n",
       "      <th>erage ratings on resorts</th>\n",
       "      <th>Average ratings on beaches</th>\n",
       "      <th>Average ratings on parks</th>\n",
       "      <th>Average ratings on theatres</th>\n",
       "      <th>Average ratings on museums</th>\n",
       "      <th>Average ratings on malls</th>\n",
       "      <th>Average ratings on zoo</th>\n",
       "      <th>Average ratings on restaurants</th>\n",
       "      <th>Average ratings on pubs/bars</th>\n",
       "      <th>Average ratings on burger/pizza shops</th>\n",
       "      <th>Average ratings on hotels/other lodgings</th>\n",
       "      <th>Average ratings on juice bars</th>\n",
       "      <th>Average ratings on art galleries</th>\n",
       "      <th>Average ratings on dance clubs</th>\n",
       "      <th>Average ratings on swimming pools</th>\n",
       "      <th>Average ratings on gyms</th>\n",
       "      <th>Average ratings on bakeries</th>\n",
       "      <th>Average ratings on beauty &amp; spas</th>\n",
       "      <th>Average ratings on cafes</th>\n",
       "      <th>Average ratings on viewpoints</th>\n",
       "      <th>Average ratings on monuments</th>\n",
       "      <th>Average ratings on gardens</th>\n",
       "      <th>Unnamed: 25</th>\n",
       "    </tr>\n",
       "  </thead>\n",
       "  <tbody>\n",
       "    <tr>\n",
       "      <th>count</th>\n",
       "      <td>5456.000000</td>\n",
       "      <td>5456.000000</td>\n",
       "      <td>5456.000000</td>\n",
       "      <td>5456.000000</td>\n",
       "      <td>5456.000000</td>\n",
       "      <td>5456.00000</td>\n",
       "      <td>5456.000000</td>\n",
       "      <td>5456.000000</td>\n",
       "      <td>5456.000000</td>\n",
       "      <td>5456.000000</td>\n",
       "      <td>5455.000000</td>\n",
       "      <td>5456.000000</td>\n",
       "      <td>5456.000000</td>\n",
       "      <td>5456.000000</td>\n",
       "      <td>5456.000000</td>\n",
       "      <td>5456.000000</td>\n",
       "      <td>5456.000000</td>\n",
       "      <td>5456.000000</td>\n",
       "      <td>5456.000000</td>\n",
       "      <td>5456.000000</td>\n",
       "      <td>5456.000000</td>\n",
       "      <td>5456.000000</td>\n",
       "      <td>5455.000000</td>\n",
       "      <td>2.000000</td>\n",
       "    </tr>\n",
       "    <tr>\n",
       "      <th>mean</th>\n",
       "      <td>1.455720</td>\n",
       "      <td>2.319707</td>\n",
       "      <td>2.489331</td>\n",
       "      <td>2.796886</td>\n",
       "      <td>2.958941</td>\n",
       "      <td>2.89349</td>\n",
       "      <td>3.351395</td>\n",
       "      <td>2.540795</td>\n",
       "      <td>3.126019</td>\n",
       "      <td>2.832729</td>\n",
       "      <td>2.078339</td>\n",
       "      <td>2.125511</td>\n",
       "      <td>2.190861</td>\n",
       "      <td>2.206573</td>\n",
       "      <td>1.192801</td>\n",
       "      <td>0.949203</td>\n",
       "      <td>0.822414</td>\n",
       "      <td>0.969811</td>\n",
       "      <td>1.000071</td>\n",
       "      <td>0.965838</td>\n",
       "      <td>1.750537</td>\n",
       "      <td>1.531453</td>\n",
       "      <td>1.560755</td>\n",
       "      <td>1.810000</td>\n",
       "    </tr>\n",
       "    <tr>\n",
       "      <th>std</th>\n",
       "      <td>0.827604</td>\n",
       "      <td>1.421438</td>\n",
       "      <td>1.247815</td>\n",
       "      <td>1.309159</td>\n",
       "      <td>1.339056</td>\n",
       "      <td>1.28240</td>\n",
       "      <td>1.413492</td>\n",
       "      <td>1.111391</td>\n",
       "      <td>1.356802</td>\n",
       "      <td>1.307665</td>\n",
       "      <td>1.249208</td>\n",
       "      <td>1.406542</td>\n",
       "      <td>1.576686</td>\n",
       "      <td>1.715961</td>\n",
       "      <td>1.107005</td>\n",
       "      <td>0.973536</td>\n",
       "      <td>0.947911</td>\n",
       "      <td>1.203972</td>\n",
       "      <td>1.193891</td>\n",
       "      <td>0.929853</td>\n",
       "      <td>1.598734</td>\n",
       "      <td>1.316889</td>\n",
       "      <td>1.171756</td>\n",
       "      <td>1.088944</td>\n",
       "    </tr>\n",
       "    <tr>\n",
       "      <th>min</th>\n",
       "      <td>0.000000</td>\n",
       "      <td>0.000000</td>\n",
       "      <td>0.000000</td>\n",
       "      <td>0.830000</td>\n",
       "      <td>1.120000</td>\n",
       "      <td>1.11000</td>\n",
       "      <td>1.120000</td>\n",
       "      <td>0.860000</td>\n",
       "      <td>0.840000</td>\n",
       "      <td>0.810000</td>\n",
       "      <td>0.780000</td>\n",
       "      <td>0.770000</td>\n",
       "      <td>0.760000</td>\n",
       "      <td>0.000000</td>\n",
       "      <td>0.000000</td>\n",
       "      <td>0.000000</td>\n",
       "      <td>0.000000</td>\n",
       "      <td>0.000000</td>\n",
       "      <td>0.000000</td>\n",
       "      <td>0.000000</td>\n",
       "      <td>0.000000</td>\n",
       "      <td>0.000000</td>\n",
       "      <td>0.000000</td>\n",
       "      <td>1.040000</td>\n",
       "    </tr>\n",
       "    <tr>\n",
       "      <th>25%</th>\n",
       "      <td>0.920000</td>\n",
       "      <td>1.360000</td>\n",
       "      <td>1.540000</td>\n",
       "      <td>1.730000</td>\n",
       "      <td>1.770000</td>\n",
       "      <td>1.79000</td>\n",
       "      <td>1.930000</td>\n",
       "      <td>1.620000</td>\n",
       "      <td>1.800000</td>\n",
       "      <td>1.640000</td>\n",
       "      <td>1.290000</td>\n",
       "      <td>1.190000</td>\n",
       "      <td>1.030000</td>\n",
       "      <td>0.860000</td>\n",
       "      <td>0.690000</td>\n",
       "      <td>0.580000</td>\n",
       "      <td>0.530000</td>\n",
       "      <td>0.520000</td>\n",
       "      <td>0.540000</td>\n",
       "      <td>0.570000</td>\n",
       "      <td>0.740000</td>\n",
       "      <td>0.790000</td>\n",
       "      <td>0.880000</td>\n",
       "      <td>1.425000</td>\n",
       "    </tr>\n",
       "    <tr>\n",
       "      <th>50%</th>\n",
       "      <td>1.340000</td>\n",
       "      <td>1.905000</td>\n",
       "      <td>2.060000</td>\n",
       "      <td>2.460000</td>\n",
       "      <td>2.670000</td>\n",
       "      <td>2.68000</td>\n",
       "      <td>3.230000</td>\n",
       "      <td>2.170000</td>\n",
       "      <td>2.800000</td>\n",
       "      <td>2.680000</td>\n",
       "      <td>1.690000</td>\n",
       "      <td>1.610000</td>\n",
       "      <td>1.490000</td>\n",
       "      <td>1.330000</td>\n",
       "      <td>0.800000</td>\n",
       "      <td>0.740000</td>\n",
       "      <td>0.690000</td>\n",
       "      <td>0.690000</td>\n",
       "      <td>0.690000</td>\n",
       "      <td>0.760000</td>\n",
       "      <td>1.030000</td>\n",
       "      <td>1.070000</td>\n",
       "      <td>1.290000</td>\n",
       "      <td>1.810000</td>\n",
       "    </tr>\n",
       "    <tr>\n",
       "      <th>75%</th>\n",
       "      <td>1.810000</td>\n",
       "      <td>2.682500</td>\n",
       "      <td>2.740000</td>\n",
       "      <td>4.092500</td>\n",
       "      <td>4.312500</td>\n",
       "      <td>3.84000</td>\n",
       "      <td>5.000000</td>\n",
       "      <td>3.190000</td>\n",
       "      <td>5.000000</td>\n",
       "      <td>3.530000</td>\n",
       "      <td>2.285000</td>\n",
       "      <td>2.360000</td>\n",
       "      <td>2.740000</td>\n",
       "      <td>4.440000</td>\n",
       "      <td>1.160000</td>\n",
       "      <td>0.910000</td>\n",
       "      <td>0.840000</td>\n",
       "      <td>0.860000</td>\n",
       "      <td>0.860000</td>\n",
       "      <td>1.000000</td>\n",
       "      <td>2.070000</td>\n",
       "      <td>1.560000</td>\n",
       "      <td>1.660000</td>\n",
       "      <td>2.195000</td>\n",
       "    </tr>\n",
       "    <tr>\n",
       "      <th>max</th>\n",
       "      <td>5.000000</td>\n",
       "      <td>5.000000</td>\n",
       "      <td>5.000000</td>\n",
       "      <td>5.000000</td>\n",
       "      <td>5.000000</td>\n",
       "      <td>5.00000</td>\n",
       "      <td>5.000000</td>\n",
       "      <td>5.000000</td>\n",
       "      <td>5.000000</td>\n",
       "      <td>5.000000</td>\n",
       "      <td>5.000000</td>\n",
       "      <td>5.000000</td>\n",
       "      <td>5.000000</td>\n",
       "      <td>5.000000</td>\n",
       "      <td>5.000000</td>\n",
       "      <td>5.000000</td>\n",
       "      <td>5.000000</td>\n",
       "      <td>5.000000</td>\n",
       "      <td>5.000000</td>\n",
       "      <td>5.000000</td>\n",
       "      <td>5.000000</td>\n",
       "      <td>5.000000</td>\n",
       "      <td>5.000000</td>\n",
       "      <td>2.580000</td>\n",
       "    </tr>\n",
       "  </tbody>\n",
       "</table>\n",
       "</div>"
      ],
      "text/plain": [
       "       Average ratings on churches  erage ratings on resorts  Average ratings on beaches  Average ratings on parks  Average ratings on theatres  Average ratings on museums  Average ratings on malls  Average ratings on zoo  Average ratings on restaurants  Average ratings on pubs/bars  Average ratings on burger/pizza shops  Average ratings on hotels/other lodgings  Average ratings on juice bars  Average ratings on art galleries  Average ratings on dance clubs  Average ratings on swimming pools  Average ratings on gyms  Average ratings on bakeries  Average ratings on beauty & spas  Average ratings on cafes  Average ratings on viewpoints  Average ratings on monuments  Average ratings on gardens  Unnamed: 25\n",
       "count                  5456.000000               5456.000000                 5456.000000               5456.000000                  5456.000000                  5456.00000               5456.000000             5456.000000                     5456.000000                   5456.000000                            5455.000000                               5456.000000                    5456.000000                       5456.000000                     5456.000000                        5456.000000              5456.000000                  5456.000000                       5456.000000               5456.000000                    5456.000000                   5456.000000                 5455.000000     2.000000\n",
       "mean                      1.455720                  2.319707                    2.489331                  2.796886                     2.958941                     2.89349                  3.351395                2.540795                        3.126019                      2.832729                               2.078339                                  2.125511                       2.190861                          2.206573                        1.192801                           0.949203                 0.822414                     0.969811                          1.000071                  0.965838                       1.750537                      1.531453                    1.560755     1.810000\n",
       "std                       0.827604                  1.421438                    1.247815                  1.309159                     1.339056                     1.28240                  1.413492                1.111391                        1.356802                      1.307665                               1.249208                                  1.406542                       1.576686                          1.715961                        1.107005                           0.973536                 0.947911                     1.203972                          1.193891                  0.929853                       1.598734                      1.316889                    1.171756     1.088944\n",
       "min                       0.000000                  0.000000                    0.000000                  0.830000                     1.120000                     1.11000                  1.120000                0.860000                        0.840000                      0.810000                               0.780000                                  0.770000                       0.760000                          0.000000                        0.000000                           0.000000                 0.000000                     0.000000                          0.000000                  0.000000                       0.000000                      0.000000                    0.000000     1.040000\n",
       "25%                       0.920000                  1.360000                    1.540000                  1.730000                     1.770000                     1.79000                  1.930000                1.620000                        1.800000                      1.640000                               1.290000                                  1.190000                       1.030000                          0.860000                        0.690000                           0.580000                 0.530000                     0.520000                          0.540000                  0.570000                       0.740000                      0.790000                    0.880000     1.425000\n",
       "50%                       1.340000                  1.905000                    2.060000                  2.460000                     2.670000                     2.68000                  3.230000                2.170000                        2.800000                      2.680000                               1.690000                                  1.610000                       1.490000                          1.330000                        0.800000                           0.740000                 0.690000                     0.690000                          0.690000                  0.760000                       1.030000                      1.070000                    1.290000     1.810000\n",
       "75%                       1.810000                  2.682500                    2.740000                  4.092500                     4.312500                     3.84000                  5.000000                3.190000                        5.000000                      3.530000                               2.285000                                  2.360000                       2.740000                          4.440000                        1.160000                           0.910000                 0.840000                     0.860000                          0.860000                  1.000000                       2.070000                      1.560000                    1.660000     2.195000\n",
       "max                       5.000000                  5.000000                    5.000000                  5.000000                     5.000000                     5.00000                  5.000000                5.000000                        5.000000                      5.000000                               5.000000                                  5.000000                       5.000000                          5.000000                        5.000000                           5.000000                 5.000000                     5.000000                          5.000000                  5.000000                       5.000000                      5.000000                    5.000000     2.580000"
      ]
     },
     "execution_count": 11,
     "metadata": {},
     "output_type": "execute_result"
    }
   ],
   "source": [
    "df.describe()"
   ]
  },
  {
   "cell_type": "code",
   "execution_count": 12,
   "metadata": {},
   "outputs": [
    {
     "data": {
      "text/plain": [
       "5        1046\n",
       "1.56       80\n",
       "1.58       75\n",
       "1.76       67\n",
       "1.75       66\n",
       "1.72       63\n",
       "1.57       55\n",
       "2.8        54\n",
       "0.84       53\n",
       "1.61       52\n",
       "1.64       50\n",
       "1.59       48\n",
       "1.77       47\n",
       "1.73       47\n",
       "2.82       46\n",
       "1.65       43\n",
       "1.71       42\n",
       "1.8        41\n",
       "1.55       41\n",
       "2.77       40\n",
       "1.81       40\n",
       "0.82       40\n",
       "2.81       39\n",
       "1.54       39\n",
       "1.63       38\n",
       "1.74       38\n",
       "1.62       37\n",
       "1.66       37\n",
       "1.67       36\n",
       "1.79       36\n",
       "0.83       35\n",
       "1.7        35\n",
       "1.69       34\n",
       "1.78       34\n",
       "0.86       33\n",
       "1.34       33\n",
       "1.6        32\n",
       "0.9        32\n",
       "1.53       30\n",
       "0.85       29\n",
       "1.68       29\n",
       "0.88       28\n",
       "2.67       28\n",
       "1.46       28\n",
       "2.06       27\n",
       "1.51       27\n",
       "1.35       27\n",
       "1.27       26\n",
       "1.87       26\n",
       "1.82       25\n",
       "2.04       25\n",
       "1.38       25\n",
       "1.86       25\n",
       "1.84       25\n",
       "1.88       25\n",
       "2.64       25\n",
       "2.07       24\n",
       "2.05       24\n",
       "2.47       23\n",
       "3.33       23\n",
       "0.92       22\n",
       "1.18       22\n",
       "2.48       21\n",
       "2.19       21\n",
       "3.29       21\n",
       "0.93       21\n",
       "2.18       20\n",
       "1.85       20\n",
       "1.22       20\n",
       "1.33       20\n",
       "2.23       19\n",
       "1.9        19\n",
       "0.87       18\n",
       "2.03       18\n",
       "1.47       18\n",
       "1.89       18\n",
       "1.91       18\n",
       "0.95       18\n",
       "3.91       17\n",
       "1.2        17\n",
       "2.83       17\n",
       "2.76       17\n",
       "0.94       17\n",
       "1.83       17\n",
       "2          16\n",
       "0.81       16\n",
       "1.28       16\n",
       "3.98       16\n",
       "2.65       15\n",
       "1.97       15\n",
       "1.23       15\n",
       "2.02       15\n",
       "1.93       15\n",
       "1.36       15\n",
       "2.79       15\n",
       "2.16       14\n",
       "2.1        14\n",
       "2.25       14\n",
       "4.02       14\n",
       "2.63       14\n",
       "0.97       14\n",
       "2.26       14\n",
       "1.52       14\n",
       "2.17       14\n",
       "1.5        14\n",
       "2.42       14\n",
       "1.17       14\n",
       "1.48       14\n",
       "0.91       14\n",
       "1.94       14\n",
       "0.89       14\n",
       "2.75       14\n",
       "2.62       13\n",
       "1.45       13\n",
       "1.98       13\n",
       "1.92       13\n",
       "1.21       13\n",
       "2.68       13\n",
       "2.22       13\n",
       "3.28       13\n",
       "2.01       13\n",
       "3.3        13\n",
       "2.45       12\n",
       "3.34       12\n",
       "0.99       12\n",
       "1.32       12\n",
       "2.89       12\n",
       "2.6        12\n",
       "2.91       12\n",
       "1.16       12\n",
       "2.73       12\n",
       "1.41       12\n",
       "2.24       12\n",
       "2.21       12\n",
       "2.78       12\n",
       "1.95       12\n",
       "2.59       12\n",
       "4.05       12\n",
       "3.97       12\n",
       "2.43       12\n",
       "1.99       12\n",
       "2.41       12\n",
       "2.88       11\n",
       "2.27       11\n",
       "0.8        11\n",
       "2.94       11\n",
       "2.2        11\n",
       "4.06       11\n",
       "2.46       11\n",
       "1.01       11\n",
       "2.09       10\n",
       "2.32       10\n",
       "0.96       10\n",
       "2.51       10\n",
       "2.12       10\n",
       "1.96       10\n",
       "2.72       10\n",
       "2.61       10\n",
       "2.49       10\n",
       "2.66       10\n",
       "2.08       10\n",
       "1.42       10\n",
       "3.16       10\n",
       "2.34       10\n",
       "2.71       10\n",
       "2.99       10\n",
       "2.55       10\n",
       "2.31        9\n",
       "1.12        9\n",
       "1.37        9\n",
       "1.14        9\n",
       "2.3         9\n",
       "0.79        9\n",
       "3.95        9\n",
       "1.3         9\n",
       "2.9         9\n",
       "2.29        9\n",
       "2.11        9\n",
       "1.29        9\n",
       "2.39        9\n",
       "4.03        9\n",
       "3.99        9\n",
       "1.1         9\n",
       "2.4         8\n",
       "2.53        8\n",
       "2.69        8\n",
       "2.57        8\n",
       "2.35        8\n",
       "1.04        8\n",
       "2.28        8\n",
       "4           8\n",
       "1.06        8\n",
       "2.74        8\n",
       "4.01        8\n",
       "2.7         8\n",
       "1.03        8\n",
       "1.08        8\n",
       "1.4         7\n",
       "2.44        7\n",
       "1           7\n",
       "1.43        7\n",
       "3.17        7\n",
       "1.25        7\n",
       "2.14        7\n",
       "2.95        7\n",
       "2.86        7\n",
       "3           7\n",
       "2.84        7\n",
       "2.13        7\n",
       "1.15        7\n",
       "1.49        6\n",
       "2.93        6\n",
       "3.94        6\n",
       "2.5         6\n",
       "2.92        6\n",
       "1.02        6\n",
       "3.19        6\n",
       "2.85        6\n",
       "4.04        6\n",
       "2.33        6\n",
       "1.05        6\n",
       "2.54        6\n",
       "4.94        6\n",
       "2.52        6\n",
       "1.24        6\n",
       "1.31        6\n",
       "2.98        6\n",
       "3.27        6\n",
       "3.96        5\n",
       "3.14        5\n",
       "2.37        5\n",
       "1.44        5\n",
       "2.38        5\n",
       "4.95        5\n",
       "1.07        5\n",
       "3.2         5\n",
       "1.19        5\n",
       "2.87        5\n",
       "3.39        5\n",
       "0.98        5\n",
       "2.36        5\n",
       "2.97        5\n",
       "1.13        5\n",
       "1.26        5\n",
       "3.24        5\n",
       "3.04        5\n",
       "2.58        5\n",
       "2.15        5\n",
       "3.26        5\n",
       "3.9         5\n",
       "1.39        4\n",
       "3.87        4\n",
       "1.11        4\n",
       "1.09        4\n",
       "3.07        4\n",
       "3.93        4\n",
       "3.56        4\n",
       "3.06        4\n",
       "3.02        4\n",
       "3.01        3\n",
       "3.88        3\n",
       "3.72        3\n",
       "3.11        3\n",
       "3.32        3\n",
       "4.97        3\n",
       "3.21        3\n",
       "3.15        3\n",
       "3.12        3\n",
       "3.13        3\n",
       "3.23        3\n",
       "3.09        3\n",
       "3.1         3\n",
       "3.31        3\n",
       "3.22        3\n",
       "3.08        3\n",
       "3.03        3\n",
       "2.96        3\n",
       "4.96        3\n",
       "3.86        2\n",
       "4.09        2\n",
       "3.92        2\n",
       "3.4         2\n",
       "3.25        2\n",
       "4.98        2\n",
       "3.85        2\n",
       "2.56        2\n",
       "3.05        2\n",
       "3.35        2\n",
       "3.74        2\n",
       "0.78        1\n",
       "3.82        1\n",
       "2\\t2.       1\n",
       "3.18        1\n",
       "3.84        1\n",
       "3.54        1\n",
       "4.08        1\n",
       "Name: Average ratings on local services, dtype: int64"
      ]
     },
     "execution_count": 12,
     "metadata": {},
     "output_type": "execute_result"
    }
   ],
   "source": [
    "df['Average ratings on local services'].value_counts()"
   ]
  },
  {
   "cell_type": "code",
   "execution_count": 13,
   "metadata": {},
   "outputs": [
    {
     "data": {
      "text/plain": [
       "array(['1.7', '1.73', '1.71', '1.69', '1.67', '1.65', '1.66', '1.64',\n",
       "       '1.63', '5', '1.56', '1.55', '1.53', '1.52', '1.51', '1.5', '1.49',\n",
       "       '1.48', '1.46', '2.13', '2.12', '2.1', '2.09', '2.08', '2.07',\n",
       "       '2.06', '2.05', '2.04', '2.03', '2.01', '2', '1.98', '1.97',\n",
       "       '1.95', '1.93', '1.91', '1.9', '1.88', '1.86', '1.84', '1.83',\n",
       "       '1.81', '1.79', '1.77', '1.74', '1.72', '1.68', '1.61', '1.6',\n",
       "       '1.59', '1.58', '1.99', '2.47', '2.35', '2.48', '2.59', '3.39',\n",
       "       '2.31', '2.78', '2.79', '2.77', '2.76', '2.75', '2.74', '2.72',\n",
       "       '2.71', '2.69', '2.68', '2.66', '2.65', '2.63', '2.61', '2.57',\n",
       "       '2.55', '2.53', '2.51', '2.49', '1.94', '1.92', '1.82', '1.76',\n",
       "       '1.62', '4.08', '4.04', '4.02', '4.01', '4', '3.99', '3.98',\n",
       "       '3.96', '3.95', '3.94', '3.93', '3.91', '3.9', '3.88', '3.87',\n",
       "       '3.86', '3.84', '3.85', '2.17', '3', '2.99', '2.82', '2.83',\n",
       "       '2.81', '2.8', '2.73', '2.67', '2.64', '2.62', '2.54', '2.52',\n",
       "       '2.5', '2.02', '1.57', '1.54', '1.47', '1.87', '1.85', '1.78',\n",
       "       '2.6', '1.45', '1.43', '1.41', '1.39', '1.37', '1.36', '1.34',\n",
       "       '1.32', '1.3', '1.28', '1.26', '1.24', '1.22', '1.2', '1.18',\n",
       "       '1.16', '1.14', '1.12', '1.1', '1.08', '1.07', '1.05', '1.03',\n",
       "       '1.01', '0.99', '0.97', '0.96', '0.94', '0.92', '0.9', '0.88',\n",
       "       '0.87', '0.85', '0.83', '0.82', '0.84', '0.86', '3.35', '3.34',\n",
       "       '3.33', '3.32', '3.31', '3.3', '3.29', '3.28', '3.27', '3.26',\n",
       "       '3.25', '3.24', '3.22', '3.21', '3.19', '3.17', '3.16', '3.14',\n",
       "       '3.08', '3.06', '3.04', '3.02', '2.98', '2.97', '2.94', '2.92',\n",
       "       '2.91', '2.89', '2.87', '2.85', '2.7', '2.28', '2.26', '2.25',\n",
       "       '2.45', '2.43', '2.41', '2.39', '2.37', '2.34', '2.32', '2.3',\n",
       "       '2.24', '2.23', '2.21', '2.19', '2.18', '2.15', '2.14', '2.11',\n",
       "       '1.89', '1.75', '1.8', '1.44', '1.42', '1.17', '1.19', '1.35',\n",
       "       '1.38', '1.33', '1.31', '1.29', '1.27', '1.25', '1.23', '1.21',\n",
       "       '1.06', '1.04', '1.02', '1', '0.98', '0.95', '0.93', '0.91',\n",
       "       '4.95', '4.96', '3.07', '2.9', '2.88', '2.84', '2.22', '2.29',\n",
       "       '2.27', '2.2', '1.96', '3.82', '3.11', '2.93', '2.16', '3.74',\n",
       "       '3.72', '2.58', '2.44', '2.42', '2.4', '2.33', '1.4', '1.09',\n",
       "       '3.15', '3.13', '3.12', '3.1', '3.09', '2.96', '2.95', '2.86',\n",
       "       '2.38', '2.36', '3.56', '0.89', '0.81', '4.98', '3.4', '4.06',\n",
       "       '4.05', '4.03', '3.97', '3.03', '3.01', '3.18', '1.15', '1.13',\n",
       "       '1.11', '3.23', '2.46', '2\\t2.', '0.8', '4.94', '3.92', '3.2',\n",
       "       '3.05', '0.79', '0.78', '4.09', '4.97', '2.56', '3.54'],\n",
       "      dtype=object)"
      ]
     },
     "execution_count": 13,
     "metadata": {},
     "output_type": "execute_result"
    }
   ],
   "source": [
    "df['Average ratings on local services'].unique()"
   ]
  },
  {
   "cell_type": "code",
   "execution_count": 14,
   "metadata": {},
   "outputs": [
    {
     "data": {
      "text/plain": [
       "2.58    1\n",
       "1.04    1\n",
       "Name: Unnamed: 25, dtype: int64"
      ]
     },
     "execution_count": 14,
     "metadata": {},
     "output_type": "execute_result"
    }
   ],
   "source": [
    "df['Unnamed: 25'].value_counts()"
   ]
  },
  {
   "cell_type": "code",
   "execution_count": 15,
   "metadata": {},
   "outputs": [],
   "source": [
    "df.drop(['Unnamed: 25'],axis=1,inplace=True)"
   ]
  },
  {
   "cell_type": "code",
   "execution_count": 16,
   "metadata": {},
   "outputs": [],
   "source": [
    "df.drop(['User'],axis=1,inplace=True)\n"
   ]
  },
  {
   "cell_type": "code",
   "execution_count": 17,
   "metadata": {},
   "outputs": [
    {
     "data": {
      "text/plain": [
       "Average ratings on churches                 0\n",
       "erage ratings on resorts                    0\n",
       "Average ratings on beaches                  0\n",
       "Average ratings on parks                    0\n",
       "Average ratings on theatres                 0\n",
       "Average ratings on museums                  0\n",
       "Average ratings on malls                    0\n",
       "Average ratings on zoo                      0\n",
       "Average ratings on restaurants              0\n",
       "Average ratings on pubs/bars                0\n",
       "Average ratings on local services           0\n",
       "Average ratings on burger/pizza shops       1\n",
       "Average ratings on hotels/other lodgings    0\n",
       "Average ratings on juice bars               0\n",
       "Average ratings on art galleries            0\n",
       "Average ratings on dance clubs              0\n",
       "Average ratings on swimming pools           0\n",
       "Average ratings on gyms                     0\n",
       "Average ratings on bakeries                 0\n",
       "Average ratings on beauty & spas            0\n",
       "Average ratings on cafes                    0\n",
       "Average ratings on viewpoints               0\n",
       "Average ratings on monuments                0\n",
       "Average ratings on gardens                  1\n",
       "dtype: int64"
      ]
     },
     "execution_count": 17,
     "metadata": {},
     "output_type": "execute_result"
    }
   ],
   "source": [
    "df.isnull().sum() # finding the null values"
   ]
  },
  {
   "cell_type": "code",
   "execution_count": 18,
   "metadata": {},
   "outputs": [],
   "source": [
    "# filling the null values"
   ]
  },
  {
   "cell_type": "code",
   "execution_count": 19,
   "metadata": {},
   "outputs": [],
   "source": [
    "df['Average ratings on burger/pizza shops'].fillna((df['Average ratings on burger/pizza shops'].mean()), inplace=True)\n",
    "df['Average ratings on gardens'].fillna((df['Average ratings on gardens'].mean()), inplace=True)\n",
    "\n"
   ]
  },
  {
   "cell_type": "code",
   "execution_count": 20,
   "metadata": {},
   "outputs": [
    {
     "data": {
      "text/plain": [
       "Average ratings on churches                 0\n",
       "erage ratings on resorts                    0\n",
       "Average ratings on beaches                  0\n",
       "Average ratings on parks                    0\n",
       "Average ratings on theatres                 0\n",
       "Average ratings on museums                  0\n",
       "Average ratings on malls                    0\n",
       "Average ratings on zoo                      0\n",
       "Average ratings on restaurants              0\n",
       "Average ratings on pubs/bars                0\n",
       "Average ratings on local services           0\n",
       "Average ratings on burger/pizza shops       0\n",
       "Average ratings on hotels/other lodgings    0\n",
       "Average ratings on juice bars               0\n",
       "Average ratings on art galleries            0\n",
       "Average ratings on dance clubs              0\n",
       "Average ratings on swimming pools           0\n",
       "Average ratings on gyms                     0\n",
       "Average ratings on bakeries                 0\n",
       "Average ratings on beauty & spas            0\n",
       "Average ratings on cafes                    0\n",
       "Average ratings on viewpoints               0\n",
       "Average ratings on monuments                0\n",
       "Average ratings on gardens                  0\n",
       "dtype: int64"
      ]
     },
     "execution_count": 20,
     "metadata": {},
     "output_type": "execute_result"
    }
   ],
   "source": [
    "df.isnull().sum()"
   ]
  },
  {
   "cell_type": "code",
   "execution_count": 21,
   "metadata": {},
   "outputs": [],
   "source": [
    "df.drop(df[df['Average ratings on local services']== '2\\t2.']. index, inplace= True)#droping the row where 2\\t2. is present\n"
   ]
  },
  {
   "cell_type": "code",
   "execution_count": 22,
   "metadata": {},
   "outputs": [
    {
     "data": {
      "image/png": "[encoded data removed]",
      "text/plain": [
       "<Figure size 432x288 with 1 Axes>"
      ]
     },
     "metadata": {
      "needs_background": "light"
     },
     "output_type": "display_data"
    },
    {
     "data": {
      "image/png": "[encoded data removed]",
      "text/plain": [
       "<Figure size 432x288 with 1 Axes>"
      ]
     },
     "metadata": {
      "needs_background": "light"
     },
     "output_type": "display_data"
    },
    {
     "data": {
      "image/png": "[encoded data removed]",
      "text/plain": [
       "<Figure size 432x288 with 1 Axes>"
      ]
     },
     "metadata": {
      "needs_background": "light"
     },
     "output_type": "display_data"
    },
    {
     "data": {
      "image/png": "[encoded data removed]",
      "text/plain": [
       "<Figure size 432x288 with 1 Axes>"
      ]
     },
     "metadata": {
      "needs_background": "light"
     },
     "output_type": "display_data"
    },
    {
     "data": {
      "image/png": "[encoded data removed]",
      "text/plain": [
       "<Figure size 432x288 with 1 Axes>"
      ]
     },
     "metadata": {
      "needs_background": "light"
     },
     "output_type": "display_data"
    },
    {
     "data": {
      "image/png": "[encoded data removed]",
      "text/plain": [
       "<Figure size 432x288 with 1 Axes>"
      ]
     },
     "metadata": {
      "needs_background": "light"
     },
     "output_type": "display_data"
    },
    {
     "data": {
      "image/png": "[encoded data removed]",
      "text/plain": [
       "<Figure size 432x288 with 1 Axes>"
      ]
     },
     "metadata": {
      "needs_background": "light"
     },
     "output_type": "display_data"
    },
    {
     "data": {
      "image/png": "[encoded data removed]",
      "text/plain": [
       "<Figure size 432x288 with 1 Axes>"
      ]
     },
     "metadata": {
      "needs_background": "light"
     },
     "output_type": "display_data"
    },
    {
     "data": {
      "image/png": "[encoded data removed]",
      "text/plain": [
       "<Figure size 432x288 with 1 Axes>"
      ]
     },
     "metadata": {
      "needs_background": "light"
     },
     "output_type": "display_data"
    },
    {
     "data": {
      "image/png": "[encoded data removed]",
      "text/plain": [
       "<Figure size 432x288 with 1 Axes>"
      ]
     },
     "metadata": {
      "needs_background": "light"
     },
     "output_type": "display_data"
    },
    {
     "ename": "KeyError",
     "evalue": "\"None of [Index(['Average ratings on local services'], dtype='object')] are in the [columns]\"",
     "output_type": "error",
     "traceback": [
      "\u001b[1;31m---------------------------------------------------------------------------\u001b[0m",
      "\u001b[1;31mKeyError\u001b[0m                                  Traceback (most recent call last)",
      "\u001b[1;32m<ipython-input-22-e64b8173dd00>\u001b[0m in \u001b[0;36m<module>\u001b[1;34m\u001b[0m\n\u001b[0;32m      1\u001b[0m \u001b[1;32mfor\u001b[0m \u001b[0mcolumn\u001b[0m \u001b[1;32min\u001b[0m \u001b[0mdf\u001b[0m\u001b[1;33m:\u001b[0m\u001b[1;33m\u001b[0m\u001b[1;33m\u001b[0m\u001b[0m\n\u001b[0;32m      2\u001b[0m     \u001b[0mplt\u001b[0m\u001b[1;33m.\u001b[0m\u001b[0mfigure\u001b[0m\u001b[1;33m(\u001b[0m\u001b[1;33m)\u001b[0m\u001b[1;33m\u001b[0m\u001b[1;33m\u001b[0m\u001b[0m\n\u001b[1;32m----> 3\u001b[1;33m     \u001b[0mdf\u001b[0m\u001b[1;33m.\u001b[0m\u001b[0mboxplot\u001b[0m\u001b[1;33m(\u001b[0m\u001b[1;33m[\u001b[0m\u001b[0mcolumn\u001b[0m\u001b[1;33m]\u001b[0m\u001b[1;33m)\u001b[0m \u001b[1;31m# plotting the all the boxplot for finding the outliers\u001b[0m\u001b[1;33m\u001b[0m\u001b[1;33m\u001b[0m\u001b[0m\n\u001b[0m\u001b[0;32m      4\u001b[0m     \u001b[0mplt\u001b[0m\u001b[1;33m.\u001b[0m\u001b[0mshow\u001b[0m\u001b[1;33m(\u001b[0m\u001b[1;33m)\u001b[0m\u001b[1;33m\u001b[0m\u001b[1;33m\u001b[0m\u001b[0m\n",
      "\u001b[1;32m~\\anaconda3\\lib\\site-packages\\pandas\\plotting\\_core.py\u001b[0m in \u001b[0;36mboxplot_frame\u001b[1;34m(self, column, by, ax, fontsize, rot, grid, figsize, layout, return_type, backend, **kwargs)\u001b[0m\n\u001b[0;32m    492\u001b[0m ):\n\u001b[0;32m    493\u001b[0m     \u001b[0mplot_backend\u001b[0m \u001b[1;33m=\u001b[0m \u001b[0m_get_plot_backend\u001b[0m\u001b[1;33m(\u001b[0m\u001b[0mbackend\u001b[0m\u001b[1;33m)\u001b[0m\u001b[1;33m\u001b[0m\u001b[1;33m\u001b[0m\u001b[0m\n\u001b[1;32m--> 494\u001b[1;33m     return plot_backend.boxplot_frame(\n\u001b[0m\u001b[0;32m    495\u001b[0m         \u001b[0mself\u001b[0m\u001b[1;33m,\u001b[0m\u001b[1;33m\u001b[0m\u001b[1;33m\u001b[0m\u001b[0m\n\u001b[0;32m    496\u001b[0m         \u001b[0mcolumn\u001b[0m\u001b[1;33m=\u001b[0m\u001b[0mcolumn\u001b[0m\u001b[1;33m,\u001b[0m\u001b[1;33m\u001b[0m\u001b[1;33m\u001b[0m\u001b[0m\n",
      "\u001b[1;32m~\\anaconda3\\lib\\site-packages\\pandas\\plotting\\_matplotlib\\boxplot.py\u001b[0m in \u001b[0;36mboxplot_frame\u001b[1;34m(self, column, by, ax, fontsize, rot, grid, figsize, layout, return_type, **kwds)\u001b[0m\n\u001b[0;32m    378\u001b[0m     \u001b[1;32mimport\u001b[0m \u001b[0mmatplotlib\u001b[0m\u001b[1;33m.\u001b[0m\u001b[0mpyplot\u001b[0m \u001b[1;32mas\u001b[0m \u001b[0mplt\u001b[0m\u001b[1;33m\u001b[0m\u001b[1;33m\u001b[0m\u001b[0m\n\u001b[0;32m    379\u001b[0m \u001b[1;33m\u001b[0m\u001b[0m\n\u001b[1;32m--> 380\u001b[1;33m     ax = boxplot(\n\u001b[0m\u001b[0;32m    381\u001b[0m         \u001b[0mself\u001b[0m\u001b[1;33m,\u001b[0m\u001b[1;33m\u001b[0m\u001b[1;33m\u001b[0m\u001b[0m\n\u001b[0;32m    382\u001b[0m         \u001b[0mcolumn\u001b[0m\u001b[1;33m=\u001b[0m\u001b[0mcolumn\u001b[0m\u001b[1;33m,\u001b[0m\u001b[1;33m\u001b[0m\u001b[1;33m\u001b[0m\u001b[0m\n",
      "\u001b[1;32m~\\anaconda3\\lib\\site-packages\\pandas\\plotting\\_matplotlib\\boxplot.py\u001b[0m in \u001b[0;36mboxplot\u001b[1;34m(data, column, by, ax, fontsize, rot, grid, figsize, layout, return_type, **kwds)\u001b[0m\n\u001b[0;32m    355\u001b[0m             \u001b[0mcolumns\u001b[0m \u001b[1;33m=\u001b[0m \u001b[0mdata\u001b[0m\u001b[1;33m.\u001b[0m\u001b[0mcolumns\u001b[0m\u001b[1;33m\u001b[0m\u001b[1;33m\u001b[0m\u001b[0m\n\u001b[0;32m    356\u001b[0m         \u001b[1;32melse\u001b[0m\u001b[1;33m:\u001b[0m\u001b[1;33m\u001b[0m\u001b[1;33m\u001b[0m\u001b[0m\n\u001b[1;32m--> 357\u001b[1;33m             \u001b[0mdata\u001b[0m \u001b[1;33m=\u001b[0m \u001b[0mdata\u001b[0m\u001b[1;33m[\u001b[0m\u001b[0mcolumns\u001b[0m\u001b[1;33m]\u001b[0m\u001b[1;33m\u001b[0m\u001b[1;33m\u001b[0m\u001b[0m\n\u001b[0m\u001b[0;32m    358\u001b[0m \u001b[1;33m\u001b[0m\u001b[0m\n\u001b[0;32m    359\u001b[0m         \u001b[0mresult\u001b[0m \u001b[1;33m=\u001b[0m \u001b[0mplot_group\u001b[0m\u001b[1;33m(\u001b[0m\u001b[0mcolumns\u001b[0m\u001b[1;33m,\u001b[0m \u001b[0mdata\u001b[0m\u001b[1;33m.\u001b[0m\u001b[0mvalues\u001b[0m\u001b[1;33m.\u001b[0m\u001b[0mT\u001b[0m\u001b[1;33m,\u001b[0m \u001b[0max\u001b[0m\u001b[1;33m)\u001b[0m\u001b[1;33m\u001b[0m\u001b[1;33m\u001b[0m\u001b[0m\n",
      "\u001b[1;32m~\\anaconda3\\lib\\site-packages\\pandas\\core\\frame.py\u001b[0m in \u001b[0;36m__getitem__\u001b[1;34m(self, key)\u001b[0m\n\u001b[0;32m   2906\u001b[0m             \u001b[1;32mif\u001b[0m \u001b[0mis_iterator\u001b[0m\u001b[1;33m(\u001b[0m\u001b[0mkey\u001b[0m\u001b[1;33m)\u001b[0m\u001b[1;33m:\u001b[0m\u001b[1;33m\u001b[0m\u001b[1;33m\u001b[0m\u001b[0m\n\u001b[0;32m   2907\u001b[0m                 \u001b[0mkey\u001b[0m \u001b[1;33m=\u001b[0m \u001b[0mlist\u001b[0m\u001b[1;33m(\u001b[0m\u001b[0mkey\u001b[0m\u001b[1;33m)\u001b[0m\u001b[1;33m\u001b[0m\u001b[1;33m\u001b[0m\u001b[0m\n\u001b[1;32m-> 2908\u001b[1;33m             \u001b[0mindexer\u001b[0m \u001b[1;33m=\u001b[0m \u001b[0mself\u001b[0m\u001b[1;33m.\u001b[0m\u001b[0mloc\u001b[0m\u001b[1;33m.\u001b[0m\u001b[0m_get_listlike_indexer\u001b[0m\u001b[1;33m(\u001b[0m\u001b[0mkey\u001b[0m\u001b[1;33m,\u001b[0m \u001b[0maxis\u001b[0m\u001b[1;33m=\u001b[0m\u001b[1;36m1\u001b[0m\u001b[1;33m,\u001b[0m \u001b[0mraise_missing\u001b[0m\u001b[1;33m=\u001b[0m\u001b[1;32mTrue\u001b[0m\u001b[1;33m)\u001b[0m\u001b[1;33m[\u001b[0m\u001b[1;36m1\u001b[0m\u001b[1;33m]\u001b[0m\u001b[1;33m\u001b[0m\u001b[1;33m\u001b[0m\u001b[0m\n\u001b[0m\u001b[0;32m   2909\u001b[0m \u001b[1;33m\u001b[0m\u001b[0m\n\u001b[0;32m   2910\u001b[0m         \u001b[1;31m# take() does not accept boolean indexers\u001b[0m\u001b[1;33m\u001b[0m\u001b[1;33m\u001b[0m\u001b[1;33m\u001b[0m\u001b[0m\n",
      "\u001b[1;32m~\\anaconda3\\lib\\site-packages\\pandas\\core\\indexing.py\u001b[0m in \u001b[0;36m_get_listlike_indexer\u001b[1;34m(self, key, axis, raise_missing)\u001b[0m\n\u001b[0;32m   1252\u001b[0m             \u001b[0mkeyarr\u001b[0m\u001b[1;33m,\u001b[0m \u001b[0mindexer\u001b[0m\u001b[1;33m,\u001b[0m \u001b[0mnew_indexer\u001b[0m \u001b[1;33m=\u001b[0m \u001b[0max\u001b[0m\u001b[1;33m.\u001b[0m\u001b[0m_reindex_non_unique\u001b[0m\u001b[1;33m(\u001b[0m\u001b[0mkeyarr\u001b[0m\u001b[1;33m)\u001b[0m\u001b[1;33m\u001b[0m\u001b[1;33m\u001b[0m\u001b[0m\n\u001b[0;32m   1253\u001b[0m \u001b[1;33m\u001b[0m\u001b[0m\n\u001b[1;32m-> 1254\u001b[1;33m         \u001b[0mself\u001b[0m\u001b[1;33m.\u001b[0m\u001b[0m_validate_read_indexer\u001b[0m\u001b[1;33m(\u001b[0m\u001b[0mkeyarr\u001b[0m\u001b[1;33m,\u001b[0m \u001b[0mindexer\u001b[0m\u001b[1;33m,\u001b[0m \u001b[0maxis\u001b[0m\u001b[1;33m,\u001b[0m \u001b[0mraise_missing\u001b[0m\u001b[1;33m=\u001b[0m\u001b[0mraise_missing\u001b[0m\u001b[1;33m)\u001b[0m\u001b[1;33m\u001b[0m\u001b[1;33m\u001b[0m\u001b[0m\n\u001b[0m\u001b[0;32m   1255\u001b[0m         \u001b[1;32mreturn\u001b[0m \u001b[0mkeyarr\u001b[0m\u001b[1;33m,\u001b[0m \u001b[0mindexer\u001b[0m\u001b[1;33m\u001b[0m\u001b[1;33m\u001b[0m\u001b[0m\n\u001b[0;32m   1256\u001b[0m \u001b[1;33m\u001b[0m\u001b[0m\n",
      "\u001b[1;32m~\\anaconda3\\lib\\site-packages\\pandas\\core\\indexing.py\u001b[0m in \u001b[0;36m_validate_read_indexer\u001b[1;34m(self, key, indexer, axis, raise_missing)\u001b[0m\n\u001b[0;32m   1296\u001b[0m             \u001b[1;32mif\u001b[0m \u001b[0mmissing\u001b[0m \u001b[1;33m==\u001b[0m \u001b[0mlen\u001b[0m\u001b[1;33m(\u001b[0m\u001b[0mindexer\u001b[0m\u001b[1;33m)\u001b[0m\u001b[1;33m:\u001b[0m\u001b[1;33m\u001b[0m\u001b[1;33m\u001b[0m\u001b[0m\n\u001b[0;32m   1297\u001b[0m                 \u001b[0maxis_name\u001b[0m \u001b[1;33m=\u001b[0m \u001b[0mself\u001b[0m\u001b[1;33m.\u001b[0m\u001b[0mobj\u001b[0m\u001b[1;33m.\u001b[0m\u001b[0m_get_axis_name\u001b[0m\u001b[1;33m(\u001b[0m\u001b[0maxis\u001b[0m\u001b[1;33m)\u001b[0m\u001b[1;33m\u001b[0m\u001b[1;33m\u001b[0m\u001b[0m\n\u001b[1;32m-> 1298\u001b[1;33m                 \u001b[1;32mraise\u001b[0m \u001b[0mKeyError\u001b[0m\u001b[1;33m(\u001b[0m\u001b[1;34mf\"None of [{key}] are in the [{axis_name}]\"\u001b[0m\u001b[1;33m)\u001b[0m\u001b[1;33m\u001b[0m\u001b[1;33m\u001b[0m\u001b[0m\n\u001b[0m\u001b[0;32m   1299\u001b[0m \u001b[1;33m\u001b[0m\u001b[0m\n\u001b[0;32m   1300\u001b[0m             \u001b[1;31m# We (temporarily) allow for some missing keys with .loc, except in\u001b[0m\u001b[1;33m\u001b[0m\u001b[1;33m\u001b[0m\u001b[1;33m\u001b[0m\u001b[0m\n",
      "\u001b[1;31mKeyError\u001b[0m: \"None of [Index(['Average ratings on local services'], dtype='object')] are in the [columns]\""
     ]
    },
    {
     "data": {
      "image/png": "[encoded data removed]",
      "text/plain": [
       "<Figure size 432x288 with 1 Axes>"
      ]
     },
     "metadata": {
      "needs_background": "light"
     },
     "output_type": "display_data"
    }
   ],
   "source": [
    "for column in df:\n",
    "    plt.figure()\n",
    "    df.boxplot([column]) # plotting the all the boxplot for finding the outliers\n",
    "    plt.show()"
   ]
  },
  {
   "cell_type": "code",
   "execution_count": 23,
   "metadata": {},
   "outputs": [],
   "source": [
    "# replacing the outliesre with iqr"
   ]
  },
  {
   "cell_type": "code",
   "execution_count": 24,
   "metadata": {},
   "outputs": [
    {
     "name": "stdout",
     "output_type": "stream",
     "text": [
      "Percentiles: 25th=0.920, 75th=1.810, IQR=0.890\n",
      "Identified outliers: 197\n",
      "Non-outlier observations: 5258\n"
     ]
    },
    {
     "data": {
      "image/png": "[encoded data removed]",
      "text/plain": [
       "<Figure size 432x288 with 1 Axes>"
      ]
     },
     "metadata": {
      "needs_background": "light"
     },
     "output_type": "display_data"
    },
    {
     "name": "stdout",
     "output_type": "stream",
     "text": [
      "Percentiles: 25th=1.360, 75th=2.640, IQR=1.280\n",
      "Identified outliers: 888\n",
      "Non-outlier observations: 4370\n"
     ]
    },
    {
     "data": {
      "image/png": "[encoded data removed]",
      "text/plain": [
       "<Figure size 432x288 with 1 Axes>"
      ]
     },
     "metadata": {
      "needs_background": "light"
     },
     "output_type": "display_data"
    },
    {
     "name": "stdout",
     "output_type": "stream",
     "text": [
      "Percentiles: 25th=1.510, 75th=2.610, IQR=1.100\n",
      "Identified outliers: 580\n",
      "Non-outlier observations: 3790\n"
     ]
    },
    {
     "data": {
      "image/png": "[encoded data removed]",
      "text/plain": [
       "<Figure size 432x288 with 1 Axes>"
      ]
     },
     "metadata": {
      "needs_background": "light"
     },
     "output_type": "display_data"
    },
    {
     "name": "stdout",
     "output_type": "stream",
     "text": [
      "Percentiles: 25th=1.670, 75th=2.890, IQR=1.220\n",
      "Identified outliers: 701\n",
      "Non-outlier observations: 3089\n"
     ]
    },
    {
     "data": {
      "image/png": "[encoded data removed]",
      "text/plain": [
       "<Figure size 432x288 with 1 Axes>"
      ]
     },
     "metadata": {
      "needs_background": "light"
     },
     "output_type": "display_data"
    },
    {
     "name": "stdout",
     "output_type": "stream",
     "text": [
      "Percentiles: 25th=1.670, 75th=3.070, IQR=1.400\n",
      "Identified outliers: 0\n",
      "Non-outlier observations: 3089\n"
     ]
    },
    {
     "data": {
      "image/png": "[encoded data removed]",
      "text/plain": [
       "<Figure size 432x288 with 1 Axes>"
      ]
     },
     "metadata": {
      "needs_background": "light"
     },
     "output_type": "display_data"
    },
    {
     "name": "stdout",
     "output_type": "stream",
     "text": [
      "Percentiles: 25th=1.670, 75th=3.240, IQR=1.570\n",
      "Identified outliers: 0\n",
      "Non-outlier observations: 3089\n"
     ]
    },
    {
     "data": {
      "image/png": "[encoded data removed]",
      "text/plain": [
       "<Figure size 432x288 with 1 Axes>"
      ]
     },
     "metadata": {
      "needs_background": "light"
     },
     "output_type": "display_data"
    },
    {
     "name": "stdout",
     "output_type": "stream",
     "text": [
      "Percentiles: 25th=1.870, 75th=5.000, IQR=3.130\n",
      "Identified outliers: 0\n",
      "Non-outlier observations: 3089\n"
     ]
    },
    {
     "data": {
      "image/png": "[encoded data removed]",
      "text/plain": [
       "<Figure size 432x288 with 1 Axes>"
      ]
     },
     "metadata": {
      "needs_background": "light"
     },
     "output_type": "display_data"
    },
    {
     "name": "stdout",
     "output_type": "stream",
     "text": [
      "Percentiles: 25th=1.570, 75th=3.220, IQR=1.650\n",
      "Identified outliers: 0\n",
      "Non-outlier observations: 3089\n"
     ]
    },
    {
     "data": {
      "image/png": "[encoded data removed]",
      "text/plain": [
       "<Figure size 432x288 with 1 Axes>"
      ]
     },
     "metadata": {
      "needs_background": "light"
     },
     "output_type": "display_data"
    },
    {
     "name": "stdout",
     "output_type": "stream",
     "text": [
      "Percentiles: 25th=2.060, 75th=5.000, IQR=2.940\n",
      "Identified outliers: 0\n",
      "Non-outlier observations: 3089\n"
     ]
    },
    {
     "data": {
      "image/png": "[encoded data removed]",
      "text/plain": [
       "<Figure size 432x288 with 1 Axes>"
      ]
     },
     "metadata": {
      "needs_background": "light"
     },
     "output_type": "display_data"
    },
    {
     "name": "stdout",
     "output_type": "stream",
     "text": [
      "Percentiles: 25th=1.600, 75th=3.600, IQR=2.000\n",
      "Identified outliers: 0\n",
      "Non-outlier observations: 3089\n"
     ]
    },
    {
     "data": {
      "image/png": "[encoded data removed]",
      "text/plain": [
       "<Figure size 432x288 with 1 Axes>"
      ]
     },
     "metadata": {
      "needs_background": "light"
     },
     "output_type": "display_data"
    },
    {
     "ename": "TypeError",
     "evalue": "can't multiply sequence by non-int of type 'float'",
     "output_type": "error",
     "traceback": [
      "\u001b[1;31m---------------------------------------------------------------------------\u001b[0m",
      "\u001b[1;31mTypeError\u001b[0m                                 Traceback (most recent call last)",
      "\u001b[1;32m<ipython-input-24-cb108f308dbc>\u001b[0m in \u001b[0;36m<module>\u001b[1;34m\u001b[0m\n\u001b[0;32m      1\u001b[0m \u001b[1;32mfrom\u001b[0m \u001b[0mnumpy\u001b[0m \u001b[1;32mimport\u001b[0m \u001b[0mpercentile\u001b[0m\u001b[1;33m\u001b[0m\u001b[1;33m\u001b[0m\u001b[0m\n\u001b[0;32m      2\u001b[0m \u001b[1;32mfor\u001b[0m \u001b[0mcolumn\u001b[0m \u001b[1;32min\u001b[0m \u001b[0mdf\u001b[0m\u001b[1;33m.\u001b[0m\u001b[0mcolumns\u001b[0m\u001b[1;33m:\u001b[0m\u001b[1;33m\u001b[0m\u001b[1;33m\u001b[0m\u001b[0m\n\u001b[1;32m----> 3\u001b[1;33m     \u001b[0mq25\u001b[0m\u001b[1;33m,\u001b[0m \u001b[0mq75\u001b[0m \u001b[1;33m=\u001b[0m \u001b[0mpercentile\u001b[0m\u001b[1;33m(\u001b[0m\u001b[0mdf\u001b[0m\u001b[1;33m[\u001b[0m\u001b[0mcolumn\u001b[0m\u001b[1;33m]\u001b[0m\u001b[1;33m,\u001b[0m \u001b[1;36m25\u001b[0m\u001b[1;33m)\u001b[0m\u001b[1;33m,\u001b[0m \u001b[0mpercentile\u001b[0m\u001b[1;33m(\u001b[0m\u001b[0mdf\u001b[0m\u001b[1;33m[\u001b[0m\u001b[0mcolumn\u001b[0m\u001b[1;33m]\u001b[0m\u001b[1;33m,\u001b[0m \u001b[1;36m75\u001b[0m\u001b[1;33m)\u001b[0m\u001b[1;33m\u001b[0m\u001b[1;33m\u001b[0m\u001b[0m\n\u001b[0m\u001b[0;32m      4\u001b[0m     \u001b[0miqr\u001b[0m \u001b[1;33m=\u001b[0m \u001b[0mq75\u001b[0m \u001b[1;33m-\u001b[0m \u001b[0mq25\u001b[0m\u001b[1;33m\u001b[0m\u001b[1;33m\u001b[0m\u001b[0m\n\u001b[0;32m      5\u001b[0m     \u001b[0mprint\u001b[0m\u001b[1;33m(\u001b[0m\u001b[1;34m'Percentiles: 25th=%.3f, 75th=%.3f, IQR=%.3f'\u001b[0m \u001b[1;33m%\u001b[0m \u001b[1;33m(\u001b[0m\u001b[0mq25\u001b[0m\u001b[1;33m,\u001b[0m \u001b[0mq75\u001b[0m\u001b[1;33m,\u001b[0m \u001b[0miqr\u001b[0m\u001b[1;33m)\u001b[0m\u001b[1;33m)\u001b[0m\u001b[1;33m\u001b[0m\u001b[1;33m\u001b[0m\u001b[0m\n",
      "\u001b[1;32m<__array_function__ internals>\u001b[0m in \u001b[0;36mpercentile\u001b[1;34m(*args, **kwargs)\u001b[0m\n",
      "\u001b[1;32m~\\anaconda3\\lib\\site-packages\\numpy\\lib\\function_base.py\u001b[0m in \u001b[0;36mpercentile\u001b[1;34m(a, q, axis, out, overwrite_input, interpolation, keepdims)\u001b[0m\n\u001b[0;32m   3730\u001b[0m     \u001b[1;32mif\u001b[0m \u001b[1;32mnot\u001b[0m \u001b[0m_quantile_is_valid\u001b[0m\u001b[1;33m(\u001b[0m\u001b[0mq\u001b[0m\u001b[1;33m)\u001b[0m\u001b[1;33m:\u001b[0m\u001b[1;33m\u001b[0m\u001b[1;33m\u001b[0m\u001b[0m\n\u001b[0;32m   3731\u001b[0m         \u001b[1;32mraise\u001b[0m \u001b[0mValueError\u001b[0m\u001b[1;33m(\u001b[0m\u001b[1;34m\"Percentiles must be in the range [0, 100]\"\u001b[0m\u001b[1;33m)\u001b[0m\u001b[1;33m\u001b[0m\u001b[1;33m\u001b[0m\u001b[0m\n\u001b[1;32m-> 3732\u001b[1;33m     return _quantile_unchecked(\n\u001b[0m\u001b[0;32m   3733\u001b[0m         a, q, axis, out, overwrite_input, interpolation, keepdims)\n\u001b[0;32m   3734\u001b[0m \u001b[1;33m\u001b[0m\u001b[0m\n",
      "\u001b[1;32m~\\anaconda3\\lib\\site-packages\\numpy\\lib\\function_base.py\u001b[0m in \u001b[0;36m_quantile_unchecked\u001b[1;34m(a, q, axis, out, overwrite_input, interpolation, keepdims)\u001b[0m\n\u001b[0;32m   3849\u001b[0m                         interpolation='linear', keepdims=False):\n\u001b[0;32m   3850\u001b[0m     \u001b[1;34m\"\"\"Assumes that q is in [0, 1], and is an ndarray\"\"\"\u001b[0m\u001b[1;33m\u001b[0m\u001b[1;33m\u001b[0m\u001b[0m\n\u001b[1;32m-> 3851\u001b[1;33m     r, k = _ureduce(a, func=_quantile_ureduce_func, q=q, axis=axis, out=out,\n\u001b[0m\u001b[0;32m   3852\u001b[0m                     \u001b[0moverwrite_input\u001b[0m\u001b[1;33m=\u001b[0m\u001b[0moverwrite_input\u001b[0m\u001b[1;33m,\u001b[0m\u001b[1;33m\u001b[0m\u001b[1;33m\u001b[0m\u001b[0m\n\u001b[0;32m   3853\u001b[0m                     interpolation=interpolation)\n",
      "\u001b[1;32m~\\anaconda3\\lib\\site-packages\\numpy\\lib\\function_base.py\u001b[0m in \u001b[0;36m_ureduce\u001b[1;34m(a, func, **kwargs)\u001b[0m\n\u001b[0;32m   3427\u001b[0m         \u001b[0mkeepdim\u001b[0m \u001b[1;33m=\u001b[0m \u001b[1;33m(\u001b[0m\u001b[1;36m1\u001b[0m\u001b[1;33m,\u001b[0m\u001b[1;33m)\u001b[0m \u001b[1;33m*\u001b[0m \u001b[0ma\u001b[0m\u001b[1;33m.\u001b[0m\u001b[0mndim\u001b[0m\u001b[1;33m\u001b[0m\u001b[1;33m\u001b[0m\u001b[0m\n\u001b[0;32m   3428\u001b[0m \u001b[1;33m\u001b[0m\u001b[0m\n\u001b[1;32m-> 3429\u001b[1;33m     \u001b[0mr\u001b[0m \u001b[1;33m=\u001b[0m \u001b[0mfunc\u001b[0m\u001b[1;33m(\u001b[0m\u001b[0ma\u001b[0m\u001b[1;33m,\u001b[0m \u001b[1;33m**\u001b[0m\u001b[0mkwargs\u001b[0m\u001b[1;33m)\u001b[0m\u001b[1;33m\u001b[0m\u001b[1;33m\u001b[0m\u001b[0m\n\u001b[0m\u001b[0;32m   3430\u001b[0m     \u001b[1;32mreturn\u001b[0m \u001b[0mr\u001b[0m\u001b[1;33m,\u001b[0m \u001b[0mkeepdim\u001b[0m\u001b[1;33m\u001b[0m\u001b[1;33m\u001b[0m\u001b[0m\n\u001b[0;32m   3431\u001b[0m \u001b[1;33m\u001b[0m\u001b[0m\n",
      "\u001b[1;32m~\\anaconda3\\lib\\site-packages\\numpy\\lib\\function_base.py\u001b[0m in \u001b[0;36m_quantile_ureduce_func\u001b[1;34m(a, q, axis, out, overwrite_input, interpolation, keepdims)\u001b[0m\n\u001b[0;32m   3965\u001b[0m             \u001b[0mn\u001b[0m \u001b[1;33m=\u001b[0m \u001b[0mnp\u001b[0m\u001b[1;33m.\u001b[0m\u001b[0misnan\u001b[0m\u001b[1;33m(\u001b[0m\u001b[0map\u001b[0m\u001b[1;33m[\u001b[0m\u001b[1;33m-\u001b[0m\u001b[1;36m1\u001b[0m\u001b[1;33m:\u001b[0m\u001b[1;33m,\u001b[0m \u001b[1;33m...\u001b[0m\u001b[1;33m]\u001b[0m\u001b[1;33m)\u001b[0m\u001b[1;33m\u001b[0m\u001b[1;33m\u001b[0m\u001b[0m\n\u001b[0;32m   3966\u001b[0m \u001b[1;33m\u001b[0m\u001b[0m\n\u001b[1;32m-> 3967\u001b[1;33m         \u001b[0mx1\u001b[0m \u001b[1;33m=\u001b[0m \u001b[0mtake\u001b[0m\u001b[1;33m(\u001b[0m\u001b[0map\u001b[0m\u001b[1;33m,\u001b[0m \u001b[0mindices_below\u001b[0m\u001b[1;33m,\u001b[0m \u001b[0maxis\u001b[0m\u001b[1;33m=\u001b[0m\u001b[0maxis\u001b[0m\u001b[1;33m)\u001b[0m \u001b[1;33m*\u001b[0m \u001b[0mweights_below\u001b[0m\u001b[1;33m\u001b[0m\u001b[1;33m\u001b[0m\u001b[0m\n\u001b[0m\u001b[0;32m   3968\u001b[0m         \u001b[0mx2\u001b[0m \u001b[1;33m=\u001b[0m \u001b[0mtake\u001b[0m\u001b[1;33m(\u001b[0m\u001b[0map\u001b[0m\u001b[1;33m,\u001b[0m \u001b[0mindices_above\u001b[0m\u001b[1;33m,\u001b[0m \u001b[0maxis\u001b[0m\u001b[1;33m=\u001b[0m\u001b[0maxis\u001b[0m\u001b[1;33m)\u001b[0m \u001b[1;33m*\u001b[0m \u001b[0mweights_above\u001b[0m\u001b[1;33m\u001b[0m\u001b[1;33m\u001b[0m\u001b[0m\n\u001b[0;32m   3969\u001b[0m \u001b[1;33m\u001b[0m\u001b[0m\n",
      "\u001b[1;31mTypeError\u001b[0m: can't multiply sequence by non-int of type 'float'"
     ]
    }
   ],
   "source": [
    "from numpy import percentile\n",
    "for column in df.columns:\n",
    "    q25, q75 = percentile(df[column], 25), percentile(df[column], 75)\n",
    "    iqr = q75 - q25\n",
    "    print('Percentiles: 25th=%.3f, 75th=%.3f, IQR=%.3f' % (q25, q75, iqr))\n",
    "    # calculate the outlier cutoff\n",
    "    cut_off = iqr * 1.5\n",
    "    lower, upper = q25 - cut_off, q75 + cut_off\n",
    "    # identify outliers\n",
    "    outliers = [x for x in df[column] if x < lower or x > upper]\n",
    "    print('Identified outliers: %d' % len(outliers))\n",
    "    # remove outliers\n",
    "    outliers_removed = [x for x in df[column] if x >= lower and x <= upper]\n",
    "    print('Non-outlier observations: %d' % len(outliers_removed))\n",
    "    df = df[df[column] < upper]\n",
    "    plt.figure()\n",
    "    df.boxplot([column])\n",
    "    plt.show()"
   ]
  },
  {
   "cell_type": "code",
   "execution_count": 25,
   "metadata": {},
   "outputs": [],
   "source": [
    "column_names = df.columns.values\n"
   ]
  },
  {
   "cell_type": "code",
   "execution_count": 26,
   "metadata": {},
   "outputs": [
    {
     "data": {
      "text/plain": [
       "Average ratings on gyms                     2509\n",
       "Average ratings on bakeries                 2532\n",
       "Average ratings on beauty & spas            2543\n",
       "Average ratings on cafes                    2660\n",
       "Average ratings on viewpoints               2810\n",
       "Average ratings on monuments                2833\n",
       "Average ratings on swimming pools           2864\n",
       "Average ratings on gardens                  2890\n",
       "erage ratings on resorts                    2999\n",
       "Average ratings on dance clubs              3031\n",
       "Average ratings on beaches                  3085\n",
       "Average ratings on local services           3089\n",
       "Average ratings on burger/pizza shops       3089\n",
       "Average ratings on restaurants              3089\n",
       "Average ratings on juice bars               3089\n",
       "Average ratings on art galleries            3089\n",
       "Average ratings on zoo                      3089\n",
       "Average ratings on malls                    3089\n",
       "Average ratings on museums                  3089\n",
       "Average ratings on theatres                 3089\n",
       "Average ratings on parks                    3089\n",
       "Average ratings on pubs/bars                3089\n",
       "Average ratings on hotels/other lodgings    3089\n",
       "dtype: int64"
      ]
     },
     "execution_count": 26,
     "metadata": {},
     "output_type": "execute_result"
    }
   ],
   "source": [
    "# Creating the dataframe containg number of review for each feature\n",
    "reviews = df[column_names[1:]].astype(bool).sum(axis=0).sort_values()\n",
    "reviews"
   ]
  },
  {
   "cell_type": "code",
   "execution_count": 27,
   "metadata": {},
   "outputs": [
    {
     "data": {
      "image/png": "[encoded data removed]",
      "text/plain": [
       "<Figure size 720x504 with 1 Axes>"
      ]
     },
     "metadata": {
      "needs_background": "light"
     },
     "output_type": "display_data"
    }
   ],
   "source": [
    "plt.figure(figsize=(10,7))\n",
    "plt.barh(np.arange(len(column_names[1:])), reviews.values, align='center', alpha=0.5)\n",
    "plt.yticks(np.arange(len(column_names[1:])), reviews.index)\n",
    "plt.xlabel('No of reviews')\n",
    "plt.ylabel('Categories')\n",
    "plt.title('No of reviews under each category')\n",
    "sns.set()"
   ]
  },
  {
   "cell_type": "code",
   "execution_count": 28,
   "metadata": {},
   "outputs": [
    {
     "data": {
      "text/plain": [
       "23    2065\n",
       "22     271\n",
       "20     229\n",
       "19     183\n",
       "18     117\n",
       "21     106\n",
       "17      94\n",
       "16      20\n",
       "15       4\n",
       "dtype: int64"
      ]
     },
     "execution_count": 28,
     "metadata": {},
     "output_type": "execute_result"
    }
   ],
   "source": [
    "# Creating a dataframe to store number of reviews by users\n",
    "no_of_reviews =df[column_names[1:]].astype(bool).sum(axis=1).value_counts()\n",
    "no_of_reviews"
   ]
  },
  {
   "cell_type": "code",
   "execution_count": 29,
   "metadata": {},
   "outputs": [
    {
     "data": {
      "text/plain": [
       "Text(0.5, 1.0, 'No of Categories vs No of reviews')"
      ]
     },
     "execution_count": 29,
     "metadata": {},
     "output_type": "execute_result"
    },
    {
     "data": {
      "image/png": "[encoded data removed]",
      "text/plain": [
       "<Figure size 720x504 with 1 Axes>"
      ]
     },
     "metadata": {},
     "output_type": "display_data"
    }
   ],
   "source": [
    "# Plotting the number of customers vs numbe of review\n",
    "plt.figure(figsize=(10,7))\n",
    "plt.bar(np.arange(len(no_of_reviews)), no_of_reviews.values, align='center', alpha=0.5)\n",
    "plt.xticks(np.arange(len(no_of_reviews)), no_of_reviews.index)\n",
    "plt.ylabel('No of reviews')\n",
    "plt.xlabel('No of categories')\n",
    "plt.title('No of Categories vs No of reviews')"
   ]
  },
  {
   "cell_type": "code",
   "execution_count": 30,
   "metadata": {},
   "outputs": [
    {
     "data": {
      "text/html": [
       "<div>\n",
       "<style scoped>\n",
       "    .dataframe tbody tr th:only-of-type {\n",
       "        vertical-align: middle;\n",
       "    }\n",
       "\n",
       "    .dataframe tbody tr th {\n",
       "        vertical-align: top;\n",
       "    }\n",
       "\n",
       "    .dataframe thead th {\n",
       "        text-align: right;\n",
       "    }\n",
       "</style>\n",
       "<table border=\"1\" class=\"dataframe\">\n",
       "  <thead>\n",
       "    <tr style=\"text-align: right;\">\n",
       "      <th></th>\n",
       "      <th>Average ratings on churches</th>\n",
       "      <th>erage ratings on resorts</th>\n",
       "      <th>Average ratings on beaches</th>\n",
       "      <th>Average ratings on parks</th>\n",
       "      <th>Average ratings on theatres</th>\n",
       "      <th>Average ratings on museums</th>\n",
       "      <th>Average ratings on malls</th>\n",
       "      <th>Average ratings on zoo</th>\n",
       "      <th>Average ratings on restaurants</th>\n",
       "      <th>Average ratings on pubs/bars</th>\n",
       "      <th>Average ratings on local services</th>\n",
       "      <th>Average ratings on burger/pizza shops</th>\n",
       "      <th>Average ratings on hotels/other lodgings</th>\n",
       "      <th>Average ratings on juice bars</th>\n",
       "      <th>Average ratings on art galleries</th>\n",
       "      <th>Average ratings on dance clubs</th>\n",
       "      <th>Average ratings on swimming pools</th>\n",
       "      <th>Average ratings on gyms</th>\n",
       "      <th>Average ratings on bakeries</th>\n",
       "      <th>Average ratings on beauty &amp; spas</th>\n",
       "      <th>Average ratings on cafes</th>\n",
       "      <th>Average ratings on viewpoints</th>\n",
       "      <th>Average ratings on monuments</th>\n",
       "      <th>Average ratings on gardens</th>\n",
       "    </tr>\n",
       "  </thead>\n",
       "  <tbody>\n",
       "    <tr>\n",
       "      <th>0</th>\n",
       "      <td>0.0</td>\n",
       "      <td>0.000000</td>\n",
       "      <td>0.333580</td>\n",
       "      <td>0.335418</td>\n",
       "      <td>0.459476</td>\n",
       "      <td>0.268334</td>\n",
       "      <td>0.459476</td>\n",
       "      <td>0.215954</td>\n",
       "      <td>0.214116</td>\n",
       "      <td>0.242603</td>\n",
       "      <td>0.156222</td>\n",
       "      <td>0.155303</td>\n",
       "      <td>0.156222</td>\n",
       "      <td>0.158060</td>\n",
       "      <td>0.159898</td>\n",
       "      <td>0.054218</td>\n",
       "      <td>0.045948</td>\n",
       "      <td>0.0</td>\n",
       "      <td>0.045948</td>\n",
       "      <td>0.0</td>\n",
       "      <td>0.0</td>\n",
       "      <td>0.0</td>\n",
       "      <td>0.0</td>\n",
       "      <td>0.0</td>\n",
       "    </tr>\n",
       "    <tr>\n",
       "      <th>1</th>\n",
       "      <td>0.0</td>\n",
       "      <td>0.000000</td>\n",
       "      <td>0.331487</td>\n",
       "      <td>0.333313</td>\n",
       "      <td>0.456593</td>\n",
       "      <td>0.266651</td>\n",
       "      <td>0.456593</td>\n",
       "      <td>0.241081</td>\n",
       "      <td>0.212773</td>\n",
       "      <td>0.241995</td>\n",
       "      <td>0.155242</td>\n",
       "      <td>0.154329</td>\n",
       "      <td>0.155242</td>\n",
       "      <td>0.157068</td>\n",
       "      <td>0.158895</td>\n",
       "      <td>0.053878</td>\n",
       "      <td>0.045659</td>\n",
       "      <td>0.0</td>\n",
       "      <td>0.045659</td>\n",
       "      <td>0.0</td>\n",
       "      <td>0.0</td>\n",
       "      <td>0.0</td>\n",
       "      <td>0.0</td>\n",
       "      <td>0.0</td>\n",
       "    </tr>\n",
       "    <tr>\n",
       "      <th>2</th>\n",
       "      <td>0.0</td>\n",
       "      <td>0.000000</td>\n",
       "      <td>0.331762</td>\n",
       "      <td>0.331762</td>\n",
       "      <td>0.456972</td>\n",
       "      <td>0.266872</td>\n",
       "      <td>0.456972</td>\n",
       "      <td>0.241281</td>\n",
       "      <td>0.212949</td>\n",
       "      <td>0.241281</td>\n",
       "      <td>0.155370</td>\n",
       "      <td>0.154456</td>\n",
       "      <td>0.155370</td>\n",
       "      <td>0.157198</td>\n",
       "      <td>0.159026</td>\n",
       "      <td>0.053923</td>\n",
       "      <td>0.045697</td>\n",
       "      <td>0.0</td>\n",
       "      <td>0.045697</td>\n",
       "      <td>0.0</td>\n",
       "      <td>0.0</td>\n",
       "      <td>0.0</td>\n",
       "      <td>0.0</td>\n",
       "      <td>0.0</td>\n",
       "    </tr>\n",
       "    <tr>\n",
       "      <th>3</th>\n",
       "      <td>0.0</td>\n",
       "      <td>0.045907</td>\n",
       "      <td>0.333288</td>\n",
       "      <td>0.333288</td>\n",
       "      <td>0.459075</td>\n",
       "      <td>0.268100</td>\n",
       "      <td>0.459075</td>\n",
       "      <td>0.215765</td>\n",
       "      <td>0.213929</td>\n",
       "      <td>0.242391</td>\n",
       "      <td>0.158840</td>\n",
       "      <td>0.155167</td>\n",
       "      <td>0.156085</td>\n",
       "      <td>0.157922</td>\n",
       "      <td>0.159758</td>\n",
       "      <td>0.054171</td>\n",
       "      <td>0.045907</td>\n",
       "      <td>0.0</td>\n",
       "      <td>0.045907</td>\n",
       "      <td>0.0</td>\n",
       "      <td>0.0</td>\n",
       "      <td>0.0</td>\n",
       "      <td>0.0</td>\n",
       "      <td>0.0</td>\n",
       "    </tr>\n",
       "    <tr>\n",
       "      <th>4</th>\n",
       "      <td>0.0</td>\n",
       "      <td>0.000000</td>\n",
       "      <td>0.331762</td>\n",
       "      <td>0.331762</td>\n",
       "      <td>0.456972</td>\n",
       "      <td>0.266872</td>\n",
       "      <td>0.456972</td>\n",
       "      <td>0.241281</td>\n",
       "      <td>0.212949</td>\n",
       "      <td>0.241281</td>\n",
       "      <td>0.155370</td>\n",
       "      <td>0.154456</td>\n",
       "      <td>0.155370</td>\n",
       "      <td>0.157198</td>\n",
       "      <td>0.159026</td>\n",
       "      <td>0.053923</td>\n",
       "      <td>0.045697</td>\n",
       "      <td>0.0</td>\n",
       "      <td>0.045697</td>\n",
       "      <td>0.0</td>\n",
       "      <td>0.0</td>\n",
       "      <td>0.0</td>\n",
       "      <td>0.0</td>\n",
       "      <td>0.0</td>\n",
       "    </tr>\n",
       "  </tbody>\n",
       "</table>\n",
       "</div>"
      ],
      "text/plain": [
       "   Average ratings on churches  erage ratings on resorts  Average ratings on beaches  Average ratings on parks  Average ratings on theatres  Average ratings on museums  Average ratings on malls  Average ratings on zoo  Average ratings on restaurants  Average ratings on pubs/bars  Average ratings on local services  Average ratings on burger/pizza shops  Average ratings on hotels/other lodgings  Average ratings on juice bars  Average ratings on art galleries  Average ratings on dance clubs  Average ratings on swimming pools  Average ratings on gyms  Average ratings on bakeries  Average ratings on beauty & spas  Average ratings on cafes  Average ratings on viewpoints  Average ratings on monuments  Average ratings on gardens\n",
       "0                          0.0                  0.000000                    0.333580                  0.335418                     0.459476                    0.268334                  0.459476                0.215954                        0.214116                      0.242603                           0.156222                               0.155303                                  0.156222                       0.158060                          0.159898                        0.054218                           0.045948                      0.0                     0.045948                               0.0                       0.0                            0.0                           0.0                         0.0\n",
       "1                          0.0                  0.000000                    0.331487                  0.333313                     0.456593                    0.266651                  0.456593                0.241081                        0.212773                      0.241995                           0.155242                               0.154329                                  0.155242                       0.157068                          0.158895                        0.053878                           0.045659                      0.0                     0.045659                               0.0                       0.0                            0.0                           0.0                         0.0\n",
       "2                          0.0                  0.000000                    0.331762                  0.331762                     0.456972                    0.266872                  0.456972                0.241281                        0.212949                      0.241281                           0.155370                               0.154456                                  0.155370                       0.157198                          0.159026                        0.053923                           0.045697                      0.0                     0.045697                               0.0                       0.0                            0.0                           0.0                         0.0\n",
       "3                          0.0                  0.045907                    0.333288                  0.333288                     0.459075                    0.268100                  0.459075                0.215765                        0.213929                      0.242391                           0.158840                               0.155167                                  0.156085                       0.157922                          0.159758                        0.054171                           0.045907                      0.0                     0.045907                               0.0                       0.0                            0.0                           0.0                         0.0\n",
       "4                          0.0                  0.000000                    0.331762                  0.331762                     0.456972                    0.266872                  0.456972                0.241281                        0.212949                      0.241281                           0.155370                               0.154456                                  0.155370                       0.157198                          0.159026                        0.053923                           0.045697                      0.0                     0.045697                               0.0                       0.0                            0.0                           0.0                         0.0"
      ]
     },
     "execution_count": 30,
     "metadata": {},
     "output_type": "execute_result"
    }
   ],
   "source": [
    "from sklearn.preprocessing import normalize\n",
    "data_scaled = normalize(df) # normalizing the all features\n",
    "data_scaled = pd.DataFrame(data_scaled, columns=df.columns) \n",
    "data_scaled.head()"
   ]
  },
  {
   "cell_type": "code",
   "execution_count": 31,
   "metadata": {},
   "outputs": [
    {
     "data": {
      "image/png": "[encoded data removed]",
      "text/plain": [
       "<Figure size 1800x1440 with 1 Axes>"
      ]
     },
     "metadata": {},
     "output_type": "display_data"
    }
   ],
   "source": [
    "import scipy.cluster.hierarchy as shc\n",
    "plt.figure(figsize=(25, 20))  \n",
    "plt.title(\"Dendrograms\")  \n",
    "dend = shc.dendrogram(shc.linkage(data_scaled, method='ward'))"
   ]
  },
  {
   "cell_type": "code",
   "execution_count": 32,
   "metadata": {},
   "outputs": [
    {
     "data": {
      "text/plain": [
       "<matplotlib.lines.Line2D at 0x1f0c3c6ebe0>"
      ]
     },
     "execution_count": 32,
     "metadata": {},
     "output_type": "execute_result"
    },
    {
     "data": {
      "image/png": "[encoded data removed]",
      "text/plain": [
       "<Figure size 1800x1440 with 1 Axes>"
      ]
     },
     "metadata": {},
     "output_type": "display_data"
    }
   ],
   "source": [
    "plt.figure(figsize=(25, 20))  \n",
    "plt.title(\"Dendrograms\")  \n",
    "dend = shc.dendrogram(shc.linkage(data_scaled, method='ward'))\n",
    "plt.axhline(y=6, color='r', linestyle='--')"
   ]
  },
  {
   "cell_type": "code",
   "execution_count": 33,
   "metadata": {},
   "outputs": [],
   "source": [
    "from sklearn.cluster import AgglomerativeClustering # Importing packages\n",
    "\n",
    "cluster = AgglomerativeClustering(n_clusters=2, affinity='euclidean', linkage='ward') # Creating a Agglomerative Clustering\n",
    " \n"
   ]
  },
  {
   "cell_type": "code",
   "execution_count": 34,
   "metadata": {},
   "outputs": [
    {
     "data": {
      "text/html": [
       "<div>\n",
       "<style scoped>\n",
       "    .dataframe tbody tr th:only-of-type {\n",
       "        vertical-align: middle;\n",
       "    }\n",
       "\n",
       "    .dataframe tbody tr th {\n",
       "        vertical-align: top;\n",
       "    }\n",
       "\n",
       "    .dataframe thead th {\n",
       "        text-align: right;\n",
       "    }\n",
       "</style>\n",
       "<table border=\"1\" class=\"dataframe\">\n",
       "  <thead>\n",
       "    <tr style=\"text-align: right;\">\n",
       "      <th></th>\n",
       "      <th>Average ratings on churches</th>\n",
       "      <th>erage ratings on resorts</th>\n",
       "      <th>Average ratings on beaches</th>\n",
       "      <th>Average ratings on parks</th>\n",
       "      <th>Average ratings on theatres</th>\n",
       "      <th>Average ratings on museums</th>\n",
       "      <th>Average ratings on malls</th>\n",
       "      <th>Average ratings on zoo</th>\n",
       "      <th>Average ratings on restaurants</th>\n",
       "      <th>Average ratings on pubs/bars</th>\n",
       "      <th>Average ratings on local services</th>\n",
       "      <th>Average ratings on burger/pizza shops</th>\n",
       "      <th>Average ratings on hotels/other lodgings</th>\n",
       "      <th>Average ratings on juice bars</th>\n",
       "      <th>Average ratings on art galleries</th>\n",
       "      <th>Average ratings on dance clubs</th>\n",
       "      <th>Average ratings on swimming pools</th>\n",
       "      <th>Average ratings on gyms</th>\n",
       "      <th>Average ratings on bakeries</th>\n",
       "      <th>Average ratings on beauty &amp; spas</th>\n",
       "      <th>Average ratings on cafes</th>\n",
       "      <th>Average ratings on viewpoints</th>\n",
       "      <th>Average ratings on monuments</th>\n",
       "      <th>Average ratings on gardens</th>\n",
       "    </tr>\n",
       "  </thead>\n",
       "  <tbody>\n",
       "    <tr>\n",
       "      <th>0</th>\n",
       "      <td>0.0</td>\n",
       "      <td>0.0</td>\n",
       "      <td>3.63</td>\n",
       "      <td>3.65</td>\n",
       "      <td>5.0</td>\n",
       "      <td>2.92</td>\n",
       "      <td>5.0</td>\n",
       "      <td>2.35</td>\n",
       "      <td>2.33</td>\n",
       "      <td>2.64</td>\n",
       "      <td>1.7</td>\n",
       "      <td>1.69</td>\n",
       "      <td>1.7</td>\n",
       "      <td>1.72</td>\n",
       "      <td>1.74</td>\n",
       "      <td>0.59</td>\n",
       "      <td>0.5</td>\n",
       "      <td>0.0</td>\n",
       "      <td>0.5</td>\n",
       "      <td>0.0</td>\n",
       "      <td>0.0</td>\n",
       "      <td>0.0</td>\n",
       "      <td>0.0</td>\n",
       "      <td>0.0</td>\n",
       "    </tr>\n",
       "    <tr>\n",
       "      <th>1</th>\n",
       "      <td>0.0</td>\n",
       "      <td>0.0</td>\n",
       "      <td>3.63</td>\n",
       "      <td>3.65</td>\n",
       "      <td>5.0</td>\n",
       "      <td>2.92</td>\n",
       "      <td>5.0</td>\n",
       "      <td>2.64</td>\n",
       "      <td>2.33</td>\n",
       "      <td>2.65</td>\n",
       "      <td>1.7</td>\n",
       "      <td>1.69</td>\n",
       "      <td>1.7</td>\n",
       "      <td>1.72</td>\n",
       "      <td>1.74</td>\n",
       "      <td>0.59</td>\n",
       "      <td>0.5</td>\n",
       "      <td>0.0</td>\n",
       "      <td>0.5</td>\n",
       "      <td>0.0</td>\n",
       "      <td>0.0</td>\n",
       "      <td>0.0</td>\n",
       "      <td>0.0</td>\n",
       "      <td>0.0</td>\n",
       "    </tr>\n",
       "    <tr>\n",
       "      <th>2</th>\n",
       "      <td>0.0</td>\n",
       "      <td>0.0</td>\n",
       "      <td>3.63</td>\n",
       "      <td>3.63</td>\n",
       "      <td>5.0</td>\n",
       "      <td>2.92</td>\n",
       "      <td>5.0</td>\n",
       "      <td>2.64</td>\n",
       "      <td>2.33</td>\n",
       "      <td>2.64</td>\n",
       "      <td>1.7</td>\n",
       "      <td>1.69</td>\n",
       "      <td>1.7</td>\n",
       "      <td>1.72</td>\n",
       "      <td>1.74</td>\n",
       "      <td>0.59</td>\n",
       "      <td>0.5</td>\n",
       "      <td>0.0</td>\n",
       "      <td>0.5</td>\n",
       "      <td>0.0</td>\n",
       "      <td>0.0</td>\n",
       "      <td>0.0</td>\n",
       "      <td>0.0</td>\n",
       "      <td>0.0</td>\n",
       "    </tr>\n",
       "    <tr>\n",
       "      <th>3</th>\n",
       "      <td>0.0</td>\n",
       "      <td>0.5</td>\n",
       "      <td>3.63</td>\n",
       "      <td>3.63</td>\n",
       "      <td>5.0</td>\n",
       "      <td>2.92</td>\n",
       "      <td>5.0</td>\n",
       "      <td>2.35</td>\n",
       "      <td>2.33</td>\n",
       "      <td>2.64</td>\n",
       "      <td>1.73</td>\n",
       "      <td>1.69</td>\n",
       "      <td>1.7</td>\n",
       "      <td>1.72</td>\n",
       "      <td>1.74</td>\n",
       "      <td>0.59</td>\n",
       "      <td>0.5</td>\n",
       "      <td>0.0</td>\n",
       "      <td>0.5</td>\n",
       "      <td>0.0</td>\n",
       "      <td>0.0</td>\n",
       "      <td>0.0</td>\n",
       "      <td>0.0</td>\n",
       "      <td>0.0</td>\n",
       "    </tr>\n",
       "    <tr>\n",
       "      <th>4</th>\n",
       "      <td>0.0</td>\n",
       "      <td>0.0</td>\n",
       "      <td>3.63</td>\n",
       "      <td>3.63</td>\n",
       "      <td>5.0</td>\n",
       "      <td>2.92</td>\n",
       "      <td>5.0</td>\n",
       "      <td>2.64</td>\n",
       "      <td>2.33</td>\n",
       "      <td>2.64</td>\n",
       "      <td>1.7</td>\n",
       "      <td>1.69</td>\n",
       "      <td>1.7</td>\n",
       "      <td>1.72</td>\n",
       "      <td>1.74</td>\n",
       "      <td>0.59</td>\n",
       "      <td>0.5</td>\n",
       "      <td>0.0</td>\n",
       "      <td>0.5</td>\n",
       "      <td>0.0</td>\n",
       "      <td>0.0</td>\n",
       "      <td>0.0</td>\n",
       "      <td>0.0</td>\n",
       "      <td>0.0</td>\n",
       "    </tr>\n",
       "  </tbody>\n",
       "</table>\n",
       "</div>"
      ],
      "text/plain": [
       "   Average ratings on churches  erage ratings on resorts  Average ratings on beaches  Average ratings on parks  Average ratings on theatres  Average ratings on museums  Average ratings on malls  Average ratings on zoo  Average ratings on restaurants  Average ratings on pubs/bars Average ratings on local services  Average ratings on burger/pizza shops  Average ratings on hotels/other lodgings  Average ratings on juice bars  Average ratings on art galleries  Average ratings on dance clubs  Average ratings on swimming pools  Average ratings on gyms  Average ratings on bakeries  Average ratings on beauty & spas  Average ratings on cafes  Average ratings on viewpoints  Average ratings on monuments  Average ratings on gardens\n",
       "0                          0.0                       0.0                        3.63                      3.65                          5.0                        2.92                       5.0                    2.35                            2.33                          2.64                               1.7                                   1.69                                       1.7                           1.72                              1.74                            0.59                                0.5                      0.0                          0.5                               0.0                       0.0                            0.0                           0.0                         0.0\n",
       "1                          0.0                       0.0                        3.63                      3.65                          5.0                        2.92                       5.0                    2.64                            2.33                          2.65                               1.7                                   1.69                                       1.7                           1.72                              1.74                            0.59                                0.5                      0.0                          0.5                               0.0                       0.0                            0.0                           0.0                         0.0\n",
       "2                          0.0                       0.0                        3.63                      3.63                          5.0                        2.92                       5.0                    2.64                            2.33                          2.64                               1.7                                   1.69                                       1.7                           1.72                              1.74                            0.59                                0.5                      0.0                          0.5                               0.0                       0.0                            0.0                           0.0                         0.0\n",
       "3                          0.0                       0.5                        3.63                      3.63                          5.0                        2.92                       5.0                    2.35                            2.33                          2.64                              1.73                                   1.69                                       1.7                           1.72                              1.74                            0.59                                0.5                      0.0                          0.5                               0.0                       0.0                            0.0                           0.0                         0.0\n",
       "4                          0.0                       0.0                        3.63                      3.63                          5.0                        2.92                       5.0                    2.64                            2.33                          2.64                               1.7                                   1.69                                       1.7                           1.72                              1.74                            0.59                                0.5                      0.0                          0.5                               0.0                       0.0                            0.0                           0.0                         0.0"
      ]
     },
     "execution_count": 34,
     "metadata": {},
     "output_type": "execute_result"
    }
   ],
   "source": [
    "data_final = df.copy(deep = True)\n",
    "data_final.head()"
   ]
  },
  {
   "cell_type": "code",
   "execution_count": 35,
   "metadata": {},
   "outputs": [],
   "source": [
    "# Fitting the model\n",
    "y_cluster = cluster.fit_predict(data_final)"
   ]
  },
  {
   "cell_type": "code",
   "execution_count": 36,
   "metadata": {},
   "outputs": [],
   "source": [
    "####Adding the cluster column\n",
    "data_clustered = data_final.copy()\n",
    "\n"
   ]
  },
  {
   "cell_type": "code",
   "execution_count": 37,
   "metadata": {},
   "outputs": [],
   "source": [
    "data_clustered[\"Cluster\"] = y_cluster.astype('object')\n"
   ]
  },
  {
   "cell_type": "code",
   "execution_count": 38,
   "metadata": {},
   "outputs": [
    {
     "data": {
      "text/html": [
       "<div>\n",
       "<style scoped>\n",
       "    .dataframe tbody tr th:only-of-type {\n",
       "        vertical-align: middle;\n",
       "    }\n",
       "\n",
       "    .dataframe tbody tr th {\n",
       "        vertical-align: top;\n",
       "    }\n",
       "\n",
       "    .dataframe thead th {\n",
       "        text-align: right;\n",
       "    }\n",
       "</style>\n",
       "<table border=\"1\" class=\"dataframe\">\n",
       "  <thead>\n",
       "    <tr style=\"text-align: right;\">\n",
       "      <th></th>\n",
       "      <th>Average ratings on churches</th>\n",
       "      <th>erage ratings on resorts</th>\n",
       "      <th>Average ratings on beaches</th>\n",
       "      <th>Average ratings on parks</th>\n",
       "      <th>Average ratings on theatres</th>\n",
       "      <th>Average ratings on museums</th>\n",
       "      <th>Average ratings on malls</th>\n",
       "      <th>Average ratings on zoo</th>\n",
       "      <th>Average ratings on restaurants</th>\n",
       "      <th>Average ratings on pubs/bars</th>\n",
       "      <th>Average ratings on local services</th>\n",
       "      <th>Average ratings on burger/pizza shops</th>\n",
       "      <th>Average ratings on hotels/other lodgings</th>\n",
       "      <th>Average ratings on juice bars</th>\n",
       "      <th>Average ratings on art galleries</th>\n",
       "      <th>Average ratings on dance clubs</th>\n",
       "      <th>Average ratings on swimming pools</th>\n",
       "      <th>Average ratings on gyms</th>\n",
       "      <th>Average ratings on bakeries</th>\n",
       "      <th>Average ratings on beauty &amp; spas</th>\n",
       "      <th>Average ratings on cafes</th>\n",
       "      <th>Average ratings on viewpoints</th>\n",
       "      <th>Average ratings on monuments</th>\n",
       "      <th>Average ratings on gardens</th>\n",
       "      <th>Cluster</th>\n",
       "    </tr>\n",
       "  </thead>\n",
       "  <tbody>\n",
       "    <tr>\n",
       "      <th>0</th>\n",
       "      <td>0.0</td>\n",
       "      <td>0.0</td>\n",
       "      <td>3.63</td>\n",
       "      <td>3.65</td>\n",
       "      <td>5.0</td>\n",
       "      <td>2.92</td>\n",
       "      <td>5.0</td>\n",
       "      <td>2.35</td>\n",
       "      <td>2.33</td>\n",
       "      <td>2.64</td>\n",
       "      <td>1.7</td>\n",
       "      <td>1.69</td>\n",
       "      <td>1.7</td>\n",
       "      <td>1.72</td>\n",
       "      <td>1.74</td>\n",
       "      <td>0.59</td>\n",
       "      <td>0.5</td>\n",
       "      <td>0.0</td>\n",
       "      <td>0.5</td>\n",
       "      <td>0.0</td>\n",
       "      <td>0.0</td>\n",
       "      <td>0.0</td>\n",
       "      <td>0.0</td>\n",
       "      <td>0.0</td>\n",
       "      <td>0</td>\n",
       "    </tr>\n",
       "    <tr>\n",
       "      <th>1</th>\n",
       "      <td>0.0</td>\n",
       "      <td>0.0</td>\n",
       "      <td>3.63</td>\n",
       "      <td>3.65</td>\n",
       "      <td>5.0</td>\n",
       "      <td>2.92</td>\n",
       "      <td>5.0</td>\n",
       "      <td>2.64</td>\n",
       "      <td>2.33</td>\n",
       "      <td>2.65</td>\n",
       "      <td>1.7</td>\n",
       "      <td>1.69</td>\n",
       "      <td>1.7</td>\n",
       "      <td>1.72</td>\n",
       "      <td>1.74</td>\n",
       "      <td>0.59</td>\n",
       "      <td>0.5</td>\n",
       "      <td>0.0</td>\n",
       "      <td>0.5</td>\n",
       "      <td>0.0</td>\n",
       "      <td>0.0</td>\n",
       "      <td>0.0</td>\n",
       "      <td>0.0</td>\n",
       "      <td>0.0</td>\n",
       "      <td>0</td>\n",
       "    </tr>\n",
       "    <tr>\n",
       "      <th>2</th>\n",
       "      <td>0.0</td>\n",
       "      <td>0.0</td>\n",
       "      <td>3.63</td>\n",
       "      <td>3.63</td>\n",
       "      <td>5.0</td>\n",
       "      <td>2.92</td>\n",
       "      <td>5.0</td>\n",
       "      <td>2.64</td>\n",
       "      <td>2.33</td>\n",
       "      <td>2.64</td>\n",
       "      <td>1.7</td>\n",
       "      <td>1.69</td>\n",
       "      <td>1.7</td>\n",
       "      <td>1.72</td>\n",
       "      <td>1.74</td>\n",
       "      <td>0.59</td>\n",
       "      <td>0.5</td>\n",
       "      <td>0.0</td>\n",
       "      <td>0.5</td>\n",
       "      <td>0.0</td>\n",
       "      <td>0.0</td>\n",
       "      <td>0.0</td>\n",
       "      <td>0.0</td>\n",
       "      <td>0.0</td>\n",
       "      <td>0</td>\n",
       "    </tr>\n",
       "    <tr>\n",
       "      <th>3</th>\n",
       "      <td>0.0</td>\n",
       "      <td>0.5</td>\n",
       "      <td>3.63</td>\n",
       "      <td>3.63</td>\n",
       "      <td>5.0</td>\n",
       "      <td>2.92</td>\n",
       "      <td>5.0</td>\n",
       "      <td>2.35</td>\n",
       "      <td>2.33</td>\n",
       "      <td>2.64</td>\n",
       "      <td>1.73</td>\n",
       "      <td>1.69</td>\n",
       "      <td>1.7</td>\n",
       "      <td>1.72</td>\n",
       "      <td>1.74</td>\n",
       "      <td>0.59</td>\n",
       "      <td>0.5</td>\n",
       "      <td>0.0</td>\n",
       "      <td>0.5</td>\n",
       "      <td>0.0</td>\n",
       "      <td>0.0</td>\n",
       "      <td>0.0</td>\n",
       "      <td>0.0</td>\n",
       "      <td>0.0</td>\n",
       "      <td>0</td>\n",
       "    </tr>\n",
       "    <tr>\n",
       "      <th>4</th>\n",
       "      <td>0.0</td>\n",
       "      <td>0.0</td>\n",
       "      <td>3.63</td>\n",
       "      <td>3.63</td>\n",
       "      <td>5.0</td>\n",
       "      <td>2.92</td>\n",
       "      <td>5.0</td>\n",
       "      <td>2.64</td>\n",
       "      <td>2.33</td>\n",
       "      <td>2.64</td>\n",
       "      <td>1.7</td>\n",
       "      <td>1.69</td>\n",
       "      <td>1.7</td>\n",
       "      <td>1.72</td>\n",
       "      <td>1.74</td>\n",
       "      <td>0.59</td>\n",
       "      <td>0.5</td>\n",
       "      <td>0.0</td>\n",
       "      <td>0.5</td>\n",
       "      <td>0.0</td>\n",
       "      <td>0.0</td>\n",
       "      <td>0.0</td>\n",
       "      <td>0.0</td>\n",
       "      <td>0.0</td>\n",
       "      <td>0</td>\n",
       "    </tr>\n",
       "  </tbody>\n",
       "</table>\n",
       "</div>"
      ],
      "text/plain": [
       "   Average ratings on churches  erage ratings on resorts  Average ratings on beaches  Average ratings on parks  Average ratings on theatres  Average ratings on museums  Average ratings on malls  Average ratings on zoo  Average ratings on restaurants  Average ratings on pubs/bars Average ratings on local services  Average ratings on burger/pizza shops  Average ratings on hotels/other lodgings  Average ratings on juice bars  Average ratings on art galleries  Average ratings on dance clubs  Average ratings on swimming pools  Average ratings on gyms  Average ratings on bakeries  Average ratings on beauty & spas  Average ratings on cafes  Average ratings on viewpoints  Average ratings on monuments  Average ratings on gardens Cluster\n",
       "0                          0.0                       0.0                        3.63                      3.65                          5.0                        2.92                       5.0                    2.35                            2.33                          2.64                               1.7                                   1.69                                       1.7                           1.72                              1.74                            0.59                                0.5                      0.0                          0.5                               0.0                       0.0                            0.0                           0.0                         0.0       0\n",
       "1                          0.0                       0.0                        3.63                      3.65                          5.0                        2.92                       5.0                    2.64                            2.33                          2.65                               1.7                                   1.69                                       1.7                           1.72                              1.74                            0.59                                0.5                      0.0                          0.5                               0.0                       0.0                            0.0                           0.0                         0.0       0\n",
       "2                          0.0                       0.0                        3.63                      3.63                          5.0                        2.92                       5.0                    2.64                            2.33                          2.64                               1.7                                   1.69                                       1.7                           1.72                              1.74                            0.59                                0.5                      0.0                          0.5                               0.0                       0.0                            0.0                           0.0                         0.0       0\n",
       "3                          0.0                       0.5                        3.63                      3.63                          5.0                        2.92                       5.0                    2.35                            2.33                          2.64                              1.73                                   1.69                                       1.7                           1.72                              1.74                            0.59                                0.5                      0.0                          0.5                               0.0                       0.0                            0.0                           0.0                         0.0       0\n",
       "4                          0.0                       0.0                        3.63                      3.63                          5.0                        2.92                       5.0                    2.64                            2.33                          2.64                               1.7                                   1.69                                       1.7                           1.72                              1.74                            0.59                                0.5                      0.0                          0.5                               0.0                       0.0                            0.0                           0.0                         0.0       0"
      ]
     },
     "execution_count": 38,
     "metadata": {},
     "output_type": "execute_result"
    }
   ],
   "source": [
    "data_clustered.head()\n"
   ]
  },
  {
   "cell_type": "code",
   "execution_count": 39,
   "metadata": {},
   "outputs": [],
   "source": [
    "##Visualizing the clusters\n"
   ]
  },
  {
   "cell_type": "code",
   "execution_count": 40,
   "metadata": {},
   "outputs": [
    {
     "data": {
      "text/plain": [
       "<matplotlib.collections.PathCollection at 0x1f0c440c2b0>"
      ]
     },
     "execution_count": 40,
     "metadata": {},
     "output_type": "execute_result"
    },
    {
     "data": {
      "image/png": "[encoded data removed]",
      "text/plain": [
       "<Figure size 720x504 with 1 Axes>"
      ]
     },
     "metadata": {},
     "output_type": "display_data"
    }
   ],
   "source": [
    "plt.figure(figsize=(10, 7))  \n",
    "plt.scatter(data_scaled['Average ratings on churches'], data_scaled['Average ratings on beaches'], c=cluster.labels_) "
   ]
  },
  {
   "cell_type": "markdown",
   "metadata": {},
   "source": [
    " # Conclusion"
   ]
  },
  {
   "cell_type": "code",
   "execution_count": 41,
   "metadata": {},
   "outputs": [],
   "source": [
    "#By using heirarchical clustering we clustered review into two category, positive review and a negative review"
   ]
  },
  {
   "cell_type": "code",
   "execution_count": 42,
   "metadata": {},
   "outputs": [],
   "source": [
    "result = data_clustered.copy()\n"
   ]
  },
  {
   "cell_type": "code",
   "execution_count": 43,
   "metadata": {},
   "outputs": [],
   "source": [
    "result.replace({'Cluster' : 1} , 'Positive' , inplace=True)\n",
    "result.replace({'Cluster' : 0} , 'Negative' , inplace= True)"
   ]
  },
  {
   "cell_type": "code",
   "execution_count": 44,
   "metadata": {},
   "outputs": [
    {
     "data": {
      "text/html": [
       "<div>\n",
       "<style scoped>\n",
       "    .dataframe tbody tr th:only-of-type {\n",
       "        vertical-align: middle;\n",
       "    }\n",
       "\n",
       "    .dataframe tbody tr th {\n",
       "        vertical-align: top;\n",
       "    }\n",
       "\n",
       "    .dataframe thead th {\n",
       "        text-align: right;\n",
       "    }\n",
       "</style>\n",
       "<table border=\"1\" class=\"dataframe\">\n",
       "  <thead>\n",
       "    <tr style=\"text-align: right;\">\n",
       "      <th></th>\n",
       "      <th>Average ratings on churches</th>\n",
       "      <th>erage ratings on resorts</th>\n",
       "      <th>Average ratings on beaches</th>\n",
       "      <th>Average ratings on parks</th>\n",
       "      <th>Average ratings on theatres</th>\n",
       "      <th>Average ratings on museums</th>\n",
       "      <th>Average ratings on malls</th>\n",
       "      <th>Average ratings on zoo</th>\n",
       "      <th>Average ratings on restaurants</th>\n",
       "      <th>Average ratings on pubs/bars</th>\n",
       "      <th>Average ratings on local services</th>\n",
       "      <th>Average ratings on burger/pizza shops</th>\n",
       "      <th>Average ratings on hotels/other lodgings</th>\n",
       "      <th>Average ratings on juice bars</th>\n",
       "      <th>Average ratings on art galleries</th>\n",
       "      <th>Average ratings on dance clubs</th>\n",
       "      <th>Average ratings on swimming pools</th>\n",
       "      <th>Average ratings on gyms</th>\n",
       "      <th>Average ratings on bakeries</th>\n",
       "      <th>Average ratings on beauty &amp; spas</th>\n",
       "      <th>Average ratings on cafes</th>\n",
       "      <th>Average ratings on viewpoints</th>\n",
       "      <th>Average ratings on monuments</th>\n",
       "      <th>Average ratings on gardens</th>\n",
       "      <th>Cluster</th>\n",
       "    </tr>\n",
       "  </thead>\n",
       "  <tbody>\n",
       "    <tr>\n",
       "      <th>0</th>\n",
       "      <td>0.0</td>\n",
       "      <td>0.0</td>\n",
       "      <td>3.63</td>\n",
       "      <td>3.65</td>\n",
       "      <td>5.0</td>\n",
       "      <td>2.92</td>\n",
       "      <td>5.0</td>\n",
       "      <td>2.35</td>\n",
       "      <td>2.33</td>\n",
       "      <td>2.64</td>\n",
       "      <td>1.7</td>\n",
       "      <td>1.69</td>\n",
       "      <td>1.7</td>\n",
       "      <td>1.72</td>\n",
       "      <td>1.74</td>\n",
       "      <td>0.59</td>\n",
       "      <td>0.5</td>\n",
       "      <td>0.0</td>\n",
       "      <td>0.5</td>\n",
       "      <td>0.0</td>\n",
       "      <td>0.0</td>\n",
       "      <td>0.0</td>\n",
       "      <td>0.0</td>\n",
       "      <td>0.0</td>\n",
       "      <td>Negative</td>\n",
       "    </tr>\n",
       "    <tr>\n",
       "      <th>1</th>\n",
       "      <td>0.0</td>\n",
       "      <td>0.0</td>\n",
       "      <td>3.63</td>\n",
       "      <td>3.65</td>\n",
       "      <td>5.0</td>\n",
       "      <td>2.92</td>\n",
       "      <td>5.0</td>\n",
       "      <td>2.64</td>\n",
       "      <td>2.33</td>\n",
       "      <td>2.65</td>\n",
       "      <td>1.7</td>\n",
       "      <td>1.69</td>\n",
       "      <td>1.7</td>\n",
       "      <td>1.72</td>\n",
       "      <td>1.74</td>\n",
       "      <td>0.59</td>\n",
       "      <td>0.5</td>\n",
       "      <td>0.0</td>\n",
       "      <td>0.5</td>\n",
       "      <td>0.0</td>\n",
       "      <td>0.0</td>\n",
       "      <td>0.0</td>\n",
       "      <td>0.0</td>\n",
       "      <td>0.0</td>\n",
       "      <td>Negative</td>\n",
       "    </tr>\n",
       "    <tr>\n",
       "      <th>2</th>\n",
       "      <td>0.0</td>\n",
       "      <td>0.0</td>\n",
       "      <td>3.63</td>\n",
       "      <td>3.63</td>\n",
       "      <td>5.0</td>\n",
       "      <td>2.92</td>\n",
       "      <td>5.0</td>\n",
       "      <td>2.64</td>\n",
       "      <td>2.33</td>\n",
       "      <td>2.64</td>\n",
       "      <td>1.7</td>\n",
       "      <td>1.69</td>\n",
       "      <td>1.7</td>\n",
       "      <td>1.72</td>\n",
       "      <td>1.74</td>\n",
       "      <td>0.59</td>\n",
       "      <td>0.5</td>\n",
       "      <td>0.0</td>\n",
       "      <td>0.5</td>\n",
       "      <td>0.0</td>\n",
       "      <td>0.0</td>\n",
       "      <td>0.0</td>\n",
       "      <td>0.0</td>\n",
       "      <td>0.0</td>\n",
       "      <td>Negative</td>\n",
       "    </tr>\n",
       "    <tr>\n",
       "      <th>3</th>\n",
       "      <td>0.0</td>\n",
       "      <td>0.5</td>\n",
       "      <td>3.63</td>\n",
       "      <td>3.63</td>\n",
       "      <td>5.0</td>\n",
       "      <td>2.92</td>\n",
       "      <td>5.0</td>\n",
       "      <td>2.35</td>\n",
       "      <td>2.33</td>\n",
       "      <td>2.64</td>\n",
       "      <td>1.73</td>\n",
       "      <td>1.69</td>\n",
       "      <td>1.7</td>\n",
       "      <td>1.72</td>\n",
       "      <td>1.74</td>\n",
       "      <td>0.59</td>\n",
       "      <td>0.5</td>\n",
       "      <td>0.0</td>\n",
       "      <td>0.5</td>\n",
       "      <td>0.0</td>\n",
       "      <td>0.0</td>\n",
       "      <td>0.0</td>\n",
       "      <td>0.0</td>\n",
       "      <td>0.0</td>\n",
       "      <td>Negative</td>\n",
       "    </tr>\n",
       "    <tr>\n",
       "      <th>4</th>\n",
       "      <td>0.0</td>\n",
       "      <td>0.0</td>\n",
       "      <td>3.63</td>\n",
       "      <td>3.63</td>\n",
       "      <td>5.0</td>\n",
       "      <td>2.92</td>\n",
       "      <td>5.0</td>\n",
       "      <td>2.64</td>\n",
       "      <td>2.33</td>\n",
       "      <td>2.64</td>\n",
       "      <td>1.7</td>\n",
       "      <td>1.69</td>\n",
       "      <td>1.7</td>\n",
       "      <td>1.72</td>\n",
       "      <td>1.74</td>\n",
       "      <td>0.59</td>\n",
       "      <td>0.5</td>\n",
       "      <td>0.0</td>\n",
       "      <td>0.5</td>\n",
       "      <td>0.0</td>\n",
       "      <td>0.0</td>\n",
       "      <td>0.0</td>\n",
       "      <td>0.0</td>\n",
       "      <td>0.0</td>\n",
       "      <td>Negative</td>\n",
       "    </tr>\n",
       "  </tbody>\n",
       "</table>\n",
       "</div>"
      ],
      "text/plain": [
       "   Average ratings on churches  erage ratings on resorts  Average ratings on beaches  Average ratings on parks  Average ratings on theatres  Average ratings on museums  Average ratings on malls  Average ratings on zoo  Average ratings on restaurants  Average ratings on pubs/bars Average ratings on local services  Average ratings on burger/pizza shops  Average ratings on hotels/other lodgings  Average ratings on juice bars  Average ratings on art galleries  Average ratings on dance clubs  Average ratings on swimming pools  Average ratings on gyms  Average ratings on bakeries  Average ratings on beauty & spas  Average ratings on cafes  Average ratings on viewpoints  Average ratings on monuments  Average ratings on gardens   Cluster\n",
       "0                          0.0                       0.0                        3.63                      3.65                          5.0                        2.92                       5.0                    2.35                            2.33                          2.64                               1.7                                   1.69                                       1.7                           1.72                              1.74                            0.59                                0.5                      0.0                          0.5                               0.0                       0.0                            0.0                           0.0                         0.0  Negative\n",
       "1                          0.0                       0.0                        3.63                      3.65                          5.0                        2.92                       5.0                    2.64                            2.33                          2.65                               1.7                                   1.69                                       1.7                           1.72                              1.74                            0.59                                0.5                      0.0                          0.5                               0.0                       0.0                            0.0                           0.0                         0.0  Negative\n",
       "2                          0.0                       0.0                        3.63                      3.63                          5.0                        2.92                       5.0                    2.64                            2.33                          2.64                               1.7                                   1.69                                       1.7                           1.72                              1.74                            0.59                                0.5                      0.0                          0.5                               0.0                       0.0                            0.0                           0.0                         0.0  Negative\n",
       "3                          0.0                       0.5                        3.63                      3.63                          5.0                        2.92                       5.0                    2.35                            2.33                          2.64                              1.73                                   1.69                                       1.7                           1.72                              1.74                            0.59                                0.5                      0.0                          0.5                               0.0                       0.0                            0.0                           0.0                         0.0  Negative\n",
       "4                          0.0                       0.0                        3.63                      3.63                          5.0                        2.92                       5.0                    2.64                            2.33                          2.64                               1.7                                   1.69                                       1.7                           1.72                              1.74                            0.59                                0.5                      0.0                          0.5                               0.0                       0.0                            0.0                           0.0                         0.0  Negative"
      ]
     },
     "execution_count": 44,
     "metadata": {},
     "output_type": "execute_result"
    }
   ],
   "source": [
    "result.head()\n"
   ]
  },
  {
   "cell_type": "code",
   "execution_count": null,
   "metadata": {},
   "outputs": [],
   "source": []
  }
 ],
 "metadata": {
  "kernelspec": {
   "display_name": "Python 3",
   "language": "python",
   "name": "python3"
  },
  "language_info": {
   "codemirror_mode": {
    "name": "ipython",
    "version": 3
   },
   "file_extension": ".py",
   "mimetype": "text/x-python",
   "name": "python",
   "nbconvert_exporter": "python",
   "pygments_lexer": "ipython3",
   "version": "3.8.5"
  }
 },
 "nbformat": 4,
 "nbformat_minor": 4
}
